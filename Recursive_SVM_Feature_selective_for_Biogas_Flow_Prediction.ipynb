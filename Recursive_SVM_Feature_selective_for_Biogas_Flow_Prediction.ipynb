{
  "nbformat": 4,
  "nbformat_minor": 0,
  "metadata": {
    "colab": {
      "name": "Recursive_SVM_Feature_selective_for_Biogas_Flow_Prediction",
      "provenance": [],
      "collapsed_sections": [],
      "toc_visible": true,
      "include_colab_link": true
    },
    "kernelspec": {
      "display_name": "Python 3",
      "name": "python3"
    }
  },
  "cells": [
    {
      "cell_type": "markdown",
      "metadata": {
        "id": "view-in-github",
        "colab_type": "text"
      },
      "source": [
        "<a href=\"https://colab.research.google.com/github/kenanmorani/Prediction_Of_Total_Prodiced_Biogas_Flow/blob/main/Recursive_SVM_Feature_selective_for_Biogas_Flow_Prediction.ipynb\" target=\"_parent\"><img src=\"https://colab.research.google.com/assets/colab-badge.svg\" alt=\"Open In Colab\"/></a>"
      ]
    },
    {
      "cell_type": "code",
      "metadata": {
        "id": "UbFJZ4BY34JO"
      },
      "source": [
        "import pandas as pd\n",
        "from sklearn import svm\n",
        "from sklearn.model_selection import train_test_split\n",
        "from sklearn.metrics import mean_squared_error\n",
        "import warnings\n",
        "from sklearn import preprocessing"
      ],
      "execution_count": 21,
      "outputs": []
    },
    {
      "cell_type": "code",
      "metadata": {
        "id": "gk8RgAPW8GI9"
      },
      "source": [
        "# Mounting my google drive\n",
        "from google.colab import drive"
      ],
      "execution_count": 22,
      "outputs": []
    },
    {
      "cell_type": "code",
      "metadata": {
        "colab": {
          "base_uri": "https://localhost:8080/"
        },
        "id": "GYe8F0IW8HdJ",
        "outputId": "c37ddac6-1302-42e2-cf29-8b68115ee0d1"
      },
      "source": [
        "drive.mount('/content/gdrive', force_remount=True)"
      ],
      "execution_count": 23,
      "outputs": [
        {
          "output_type": "stream",
          "text": [
            "Mounted at /content/gdrive\n"
          ],
          "name": "stdout"
        }
      ]
    },
    {
      "cell_type": "code",
      "metadata": {
        "id": "OdKAhbpj4O8f"
      },
      "source": [
        "#Create DataFrame\n",
        "df = pd.read_csv('/content/gdrive/MyDrive/Biogaz_Flow/Real_Plant_Data.csv')"
      ],
      "execution_count": 24,
      "outputs": []
    },
    {
      "cell_type": "code",
      "metadata": {
        "colab": {
          "base_uri": "https://localhost:8080/",
          "height": 204
        },
        "id": "DWfi6FY78mJ0",
        "outputId": "f17facdd-d47a-47f6-a851-c49b11dd89c2"
      },
      "source": [
        "df.head()"
      ],
      "execution_count": 25,
      "outputs": [
        {
          "output_type": "execute_result",
          "data": {
            "text/html": [
              "<div>\n",
              "<style scoped>\n",
              "    .dataframe tbody tr th:only-of-type {\n",
              "        vertical-align: middle;\n",
              "    }\n",
              "\n",
              "    .dataframe tbody tr th {\n",
              "        vertical-align: top;\n",
              "    }\n",
              "\n",
              "    .dataframe thead th {\n",
              "        text-align: right;\n",
              "    }\n",
              "</style>\n",
              "<table border=\"1\" class=\"dataframe\">\n",
              "  <thead>\n",
              "    <tr style=\"text-align: right;\">\n",
              "      <th></th>\n",
              "      <th>Date</th>\n",
              "      <th>TMF</th>\n",
              "      <th>TKM_percent</th>\n",
              "      <th>TUKM_percent</th>\n",
              "      <th>Alcantine</th>\n",
              "      <th>Fatty_Accid</th>\n",
              "      <th>Total_Biogaz_Production</th>\n",
              "    </tr>\n",
              "  </thead>\n",
              "  <tbody>\n",
              "    <tr>\n",
              "      <th>0</th>\n",
              "      <td>1/1/2008</td>\n",
              "      <td>240</td>\n",
              "      <td>46.26</td>\n",
              "      <td>33.15</td>\n",
              "      <td>787.0</td>\n",
              "      <td>244.36</td>\n",
              "      <td>2113</td>\n",
              "    </tr>\n",
              "    <tr>\n",
              "      <th>1</th>\n",
              "      <td>1/2/2008</td>\n",
              "      <td>120</td>\n",
              "      <td>44.77</td>\n",
              "      <td>22.02</td>\n",
              "      <td>983.0</td>\n",
              "      <td>413.54</td>\n",
              "      <td>1754</td>\n",
              "    </tr>\n",
              "    <tr>\n",
              "      <th>2</th>\n",
              "      <td>1/3/2008</td>\n",
              "      <td>200</td>\n",
              "      <td>44.45</td>\n",
              "      <td>22.61</td>\n",
              "      <td>740.0</td>\n",
              "      <td>378.60</td>\n",
              "      <td>1884</td>\n",
              "    </tr>\n",
              "    <tr>\n",
              "      <th>3</th>\n",
              "      <td>1/4/2008</td>\n",
              "      <td>160</td>\n",
              "      <td>44.31</td>\n",
              "      <td>26.64</td>\n",
              "      <td>761.0</td>\n",
              "      <td>353.66</td>\n",
              "      <td>1768</td>\n",
              "    </tr>\n",
              "    <tr>\n",
              "      <th>4</th>\n",
              "      <td>1/5/2008</td>\n",
              "      <td>200</td>\n",
              "      <td>50.58</td>\n",
              "      <td>23.23</td>\n",
              "      <td>748.0</td>\n",
              "      <td>343.96</td>\n",
              "      <td>1715</td>\n",
              "    </tr>\n",
              "  </tbody>\n",
              "</table>\n",
              "</div>"
            ],
            "text/plain": [
              "       Date  TMF  TKM_percent  ...  Alcantine  Fatty_Accid  Total_Biogaz_Production\n",
              "0  1/1/2008  240        46.26  ...      787.0       244.36                     2113\n",
              "1  1/2/2008  120        44.77  ...      983.0       413.54                     1754\n",
              "2  1/3/2008  200        44.45  ...      740.0       378.60                     1884\n",
              "3  1/4/2008  160        44.31  ...      761.0       353.66                     1768\n",
              "4  1/5/2008  200        50.58  ...      748.0       343.96                     1715\n",
              "\n",
              "[5 rows x 7 columns]"
            ]
          },
          "metadata": {
            "tags": []
          },
          "execution_count": 25
        }
      ]
    },
    {
      "cell_type": "code",
      "metadata": {
        "id": "EJ6GuOzx392Z"
      },
      "source": [
        "#Function to test model performance changes with feature elimination MSE\n",
        "def Mean_Square_Error(model, x_test, y_test):\n",
        "\tprediction = model.predict(x_test)\n",
        "\tprint (\"Mean Square error of model:\", mean_squared_error(y_test, prediction))"
      ],
      "execution_count": 27,
      "outputs": []
    },
    {
      "cell_type": "code",
      "metadata": {
        "id": "Kb85KyH94MPs"
      },
      "source": [
        "#Setting a parameter for SVM model\n",
        "C = 1.0"
      ],
      "execution_count": 28,
      "outputs": []
    },
    {
      "cell_type": "code",
      "metadata": {
        "id": "aAPgI9s14V_2"
      },
      "source": [
        "# Identifying the target feature by splitting the dataset\n",
        "samples = df.filter(['TMF', 'TKM_percent', 'TUKM_percent', 'Alcantine', 'Fatty_Accid'])\n",
        "scores = df.filter(['Total_Biogaz_Production'])"
      ],
      "execution_count": 30,
      "outputs": []
    },
    {
      "cell_type": "code",
      "metadata": {
        "id": "JPsAypvF0drA"
      },
      "source": [
        "# Deleting the 'Date' column from the dataset as supposed 'irrelevent' or 'unprocessible'\n",
        "del df['Date']"
      ],
      "execution_count": 31,
      "outputs": []
    },
    {
      "cell_type": "code",
      "metadata": {
        "id": "uWyPnLi70847"
      },
      "source": [
        "# Defining the number of features to investigate\n",
        "nFeatures = len(df.columns) - 1"
      ],
      "execution_count": 32,
      "outputs": []
    },
    {
      "cell_type": "code",
      "metadata": {
        "colab": {
          "base_uri": "https://localhost:8080/",
          "height": 419
        },
        "id": "u0bklU5bDokf",
        "outputId": "014900da-0f68-4a4a-fbac-5435a5353616"
      },
      "source": [
        "samples"
      ],
      "execution_count": 33,
      "outputs": [
        {
          "output_type": "execute_result",
          "data": {
            "text/html": [
              "<div>\n",
              "<style scoped>\n",
              "    .dataframe tbody tr th:only-of-type {\n",
              "        vertical-align: middle;\n",
              "    }\n",
              "\n",
              "    .dataframe tbody tr th {\n",
              "        vertical-align: top;\n",
              "    }\n",
              "\n",
              "    .dataframe thead th {\n",
              "        text-align: right;\n",
              "    }\n",
              "</style>\n",
              "<table border=\"1\" class=\"dataframe\">\n",
              "  <thead>\n",
              "    <tr style=\"text-align: right;\">\n",
              "      <th></th>\n",
              "      <th>TMF</th>\n",
              "      <th>TKM_percent</th>\n",
              "      <th>TUKM_percent</th>\n",
              "      <th>Alcantine</th>\n",
              "      <th>Fatty_Accid</th>\n",
              "    </tr>\n",
              "  </thead>\n",
              "  <tbody>\n",
              "    <tr>\n",
              "      <th>0</th>\n",
              "      <td>240</td>\n",
              "      <td>46.26</td>\n",
              "      <td>33.15</td>\n",
              "      <td>787.00</td>\n",
              "      <td>244.36</td>\n",
              "    </tr>\n",
              "    <tr>\n",
              "      <th>1</th>\n",
              "      <td>120</td>\n",
              "      <td>44.77</td>\n",
              "      <td>22.02</td>\n",
              "      <td>983.00</td>\n",
              "      <td>413.54</td>\n",
              "    </tr>\n",
              "    <tr>\n",
              "      <th>2</th>\n",
              "      <td>200</td>\n",
              "      <td>44.45</td>\n",
              "      <td>22.61</td>\n",
              "      <td>740.00</td>\n",
              "      <td>378.60</td>\n",
              "    </tr>\n",
              "    <tr>\n",
              "      <th>3</th>\n",
              "      <td>160</td>\n",
              "      <td>44.31</td>\n",
              "      <td>26.64</td>\n",
              "      <td>761.00</td>\n",
              "      <td>353.66</td>\n",
              "    </tr>\n",
              "    <tr>\n",
              "      <th>4</th>\n",
              "      <td>200</td>\n",
              "      <td>50.58</td>\n",
              "      <td>23.23</td>\n",
              "      <td>748.00</td>\n",
              "      <td>343.96</td>\n",
              "    </tr>\n",
              "    <tr>\n",
              "      <th>...</th>\n",
              "      <td>...</td>\n",
              "      <td>...</td>\n",
              "      <td>...</td>\n",
              "      <td>...</td>\n",
              "      <td>...</td>\n",
              "    </tr>\n",
              "    <tr>\n",
              "      <th>389</th>\n",
              "      <td>910</td>\n",
              "      <td>46.88</td>\n",
              "      <td>22.50</td>\n",
              "      <td>308.33</td>\n",
              "      <td>162.40</td>\n",
              "    </tr>\n",
              "    <tr>\n",
              "      <th>390</th>\n",
              "      <td>940</td>\n",
              "      <td>38.19</td>\n",
              "      <td>18.33</td>\n",
              "      <td>277.17</td>\n",
              "      <td>109.25</td>\n",
              "    </tr>\n",
              "    <tr>\n",
              "      <th>391</th>\n",
              "      <td>810</td>\n",
              "      <td>71.55</td>\n",
              "      <td>34.34</td>\n",
              "      <td>430.00</td>\n",
              "      <td>63.43</td>\n",
              "    </tr>\n",
              "    <tr>\n",
              "      <th>392</th>\n",
              "      <td>1100</td>\n",
              "      <td>99.82</td>\n",
              "      <td>47.91</td>\n",
              "      <td>410.00</td>\n",
              "      <td>48.98</td>\n",
              "    </tr>\n",
              "    <tr>\n",
              "      <th>393</th>\n",
              "      <td>1110</td>\n",
              "      <td>86.02</td>\n",
              "      <td>41.29</td>\n",
              "      <td>1088.30</td>\n",
              "      <td>380.23</td>\n",
              "    </tr>\n",
              "  </tbody>\n",
              "</table>\n",
              "<p>394 rows × 5 columns</p>\n",
              "</div>"
            ],
            "text/plain": [
              "      TMF  TKM_percent  TUKM_percent  Alcantine  Fatty_Accid\n",
              "0     240        46.26         33.15     787.00       244.36\n",
              "1     120        44.77         22.02     983.00       413.54\n",
              "2     200        44.45         22.61     740.00       378.60\n",
              "3     160        44.31         26.64     761.00       353.66\n",
              "4     200        50.58         23.23     748.00       343.96\n",
              "..    ...          ...           ...        ...          ...\n",
              "389   910        46.88         22.50     308.33       162.40\n",
              "390   940        38.19         18.33     277.17       109.25\n",
              "391   810        71.55         34.34     430.00        63.43\n",
              "392  1100        99.82         47.91     410.00        48.98\n",
              "393  1110        86.02         41.29    1088.30       380.23\n",
              "\n",
              "[394 rows x 5 columns]"
            ]
          },
          "metadata": {
            "tags": []
          },
          "execution_count": 33
        }
      ]
    },
    {
      "cell_type": "code",
      "metadata": {
        "colab": {
          "base_uri": "https://localhost:8080/",
          "height": 419
        },
        "id": "M5JeWxcXDvud",
        "outputId": "09e193e3-eb39-4f66-de2e-d3b7b632e5f0"
      },
      "source": [
        "scores"
      ],
      "execution_count": 17,
      "outputs": [
        {
          "output_type": "execute_result",
          "data": {
            "text/html": [
              "<div>\n",
              "<style scoped>\n",
              "    .dataframe tbody tr th:only-of-type {\n",
              "        vertical-align: middle;\n",
              "    }\n",
              "\n",
              "    .dataframe tbody tr th {\n",
              "        vertical-align: top;\n",
              "    }\n",
              "\n",
              "    .dataframe thead th {\n",
              "        text-align: right;\n",
              "    }\n",
              "</style>\n",
              "<table border=\"1\" class=\"dataframe\">\n",
              "  <thead>\n",
              "    <tr style=\"text-align: right;\">\n",
              "      <th></th>\n",
              "      <th>Total_Biogaz_Production</th>\n",
              "    </tr>\n",
              "  </thead>\n",
              "  <tbody>\n",
              "    <tr>\n",
              "      <th>0</th>\n",
              "      <td>2113</td>\n",
              "    </tr>\n",
              "    <tr>\n",
              "      <th>1</th>\n",
              "      <td>1754</td>\n",
              "    </tr>\n",
              "    <tr>\n",
              "      <th>2</th>\n",
              "      <td>1884</td>\n",
              "    </tr>\n",
              "    <tr>\n",
              "      <th>3</th>\n",
              "      <td>1768</td>\n",
              "    </tr>\n",
              "    <tr>\n",
              "      <th>4</th>\n",
              "      <td>1715</td>\n",
              "    </tr>\n",
              "    <tr>\n",
              "      <th>...</th>\n",
              "      <td>...</td>\n",
              "    </tr>\n",
              "    <tr>\n",
              "      <th>389</th>\n",
              "      <td>6132</td>\n",
              "    </tr>\n",
              "    <tr>\n",
              "      <th>390</th>\n",
              "      <td>5562</td>\n",
              "    </tr>\n",
              "    <tr>\n",
              "      <th>391</th>\n",
              "      <td>5870</td>\n",
              "    </tr>\n",
              "    <tr>\n",
              "      <th>392</th>\n",
              "      <td>5207</td>\n",
              "    </tr>\n",
              "    <tr>\n",
              "      <th>393</th>\n",
              "      <td>7551</td>\n",
              "    </tr>\n",
              "  </tbody>\n",
              "</table>\n",
              "<p>394 rows × 1 columns</p>\n",
              "</div>"
            ],
            "text/plain": [
              "     Total_Biogaz_Production\n",
              "0                       2113\n",
              "1                       1754\n",
              "2                       1884\n",
              "3                       1768\n",
              "4                       1715\n",
              "..                       ...\n",
              "389                     6132\n",
              "390                     5562\n",
              "391                     5870\n",
              "392                     5207\n",
              "393                     7551\n",
              "\n",
              "[394 rows x 1 columns]"
            ]
          },
          "metadata": {
            "tags": []
          },
          "execution_count": 17
        }
      ]
    },
    {
      "cell_type": "code",
      "metadata": {
        "id": "C6hyrCNn4aPd"
      },
      "source": [
        "rfeIndex = nFeatures"
      ],
      "execution_count": 34,
      "outputs": []
    },
    {
      "cell_type": "code",
      "metadata": {
        "colab": {
          "base_uri": "https://localhost:8080/"
        },
        "id": "mvwOnsY04col",
        "outputId": "c0c53a01-290d-452f-d293-50c6141f1b8f"
      },
      "source": [
        "#Recursively eliminate features based on the lowest weight\n",
        "while True:\n",
        "\t#Split into training and testing\n",
        "\tx_train, x_test, y_train, y_test = train_test_split(samples, scores, test_size = 0.50, train_size=0.5)\n",
        "\t\n",
        "\t#Create SVM model using a linear kernel\n",
        "\tmodel = svm.SVR(kernel='linear', C=C).fit(x_train, y_train)\n",
        "\tcoef = model.coef_\n",
        "\n",
        "\t#Print co-efficients of features\n",
        "\tfor i in range(0, nFeatures):\n",
        "\t\tprint(samples.columns[i-1],\":\", coef[0][i-1])\n",
        "\t\n",
        "\t#Find the minimum weight among features and eliminate the feature with the smallest weight\n",
        "\tmin = coef[0][0]\n",
        "\tindex = 0\n",
        "\tfor i in range(0, rfeIndex):\n",
        "\t\tif min > coef[0][i-1]:\n",
        "\t\t\tindex = index + 1\n",
        "\t\t\tmin = coef[0][i-1]\n",
        "\tif len(samples.columns) == 1:\n",
        "\t\tprint(\"After recursive elimination we have the\", samples.columns[index], \"feature with a score of:\", min)\n",
        "\t\tMean_Square_Error(model, x_test, y_test)\n",
        "\t\tbreak\n",
        "\telse:\n",
        "\t\tprint (\"Lowest feature weight is for\", samples.columns[index], \"with a value of:\", min)\n",
        "\t\tprint (\"Dropping feature\", samples.columns[index])  \n",
        "\n",
        "\t\t#Drop the feature in the 'samples' dataframe based on the lowest feature index\n",
        "\t\tsamples.drop(samples.columns[index], axis = 1, inplace = True)\n",
        "\t\tMean_Square_Error(model, x_test, y_test)\n",
        "\t\tprint (\"\\n\")\n",
        "\t\trfeIndex = rfeIndex - 1\n",
        "\t\tnFeatures = nFeatures - 1"
      ],
      "execution_count": 35,
      "outputs": [
        {
          "output_type": "stream",
          "text": [
            "Fatty_Accid : 1.7904974178610473\n",
            "TMF : 6.309632437012624\n",
            "TKM_percent : 19.87679791689122\n",
            "TUKM_percent : 19.93011592027834\n",
            "Alcantine : 0.6082463121642832\n",
            "Lowest feature weight is for TUKM_percent with a value of: 0.6082463121642832\n",
            "Dropping feature TUKM_percent\n",
            "Mean Square error of model: 7515747.164215828\n",
            "\n",
            "\n",
            "Fatty_Accid : 1.6460177087399188\n",
            "TMF : 5.851332537285998\n",
            "TKM_percent : 11.723232471263465\n",
            "Alcantine : -0.33268555222321083\n",
            "Lowest feature weight is for Alcantine with a value of: -0.33268555222321083\n",
            "Dropping feature Alcantine\n",
            "Mean Square error of model: 8717444.982867021\n",
            "\n",
            "\n",
            "Fatty_Accid : 0.9992582878796838\n",
            "TMF : 5.64766733426768\n",
            "TKM_percent : 7.937456050945528\n",
            "Lowest feature weight is for TKM_percent with a value of: 0.9992582878796838\n",
            "Dropping feature TKM_percent\n",
            "Mean Square error of model: 10028935.030579638\n",
            "\n",
            "\n",
            "Fatty_Accid : 3.1048727533185456\n",
            "TMF : 6.37433794763092\n",
            "Lowest feature weight is for Fatty_Accid with a value of: 3.1048727533185456\n",
            "Dropping feature Fatty_Accid\n",
            "Mean Square error of model: 9619774.528522393\n",
            "\n",
            "\n",
            "TMF : 6.265517241379712\n",
            "After recursive elimination we have the TMF feature with a score of: 6.265517241379712\n",
            "Mean Square error of model: 8228903.572172499\n"
          ],
          "name": "stdout"
        }
      ]
    }
  ]
}