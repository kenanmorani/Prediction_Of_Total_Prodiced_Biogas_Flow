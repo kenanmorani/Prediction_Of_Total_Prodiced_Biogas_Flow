{
  "nbformat": 4,
  "nbformat_minor": 0,
  "metadata": {
    "colab": {
      "name": "Recursive_SVM_Standard_scaled_Feature_selective_for_Biogas_Flow_Prediction",
      "provenance": [],
      "collapsed_sections": [],
      "toc_visible": true,
      "include_colab_link": true
    },
    "kernelspec": {
      "display_name": "Python 3",
      "name": "python3"
    }
  },
  "cells": [
    {
      "cell_type": "markdown",
      "metadata": {
        "id": "view-in-github",
        "colab_type": "text"
      },
      "source": [
        "<a href=\"https://colab.research.google.com/github/kenanmorani/Prediction_Of_Total_Produced_Biogas_Flow/blob/main/Recursive_SVM_Standard_scaled_Feature_selective_for_Biogas_Flow_Prediction_Results.ipynb\" target=\"_parent\"><img src=\"https://colab.research.google.com/assets/colab-badge.svg\" alt=\"Open In Colab\"/></a>"
      ]
    },
    {
      "cell_type": "code",
      "metadata": {
        "id": "UbFJZ4BY34JO"
      },
      "source": [
        "import pandas as pd\n",
        "from sklearn import svm\n",
        "from sklearn.model_selection import train_test_split\n",
        "from sklearn.metrics import mean_squared_error, mean_absolute_percentage_error, accuracy_score\n",
        "import math\n",
        "from math import sqrt\n",
        "import warnings\n",
        "from sklearn import preprocessing"
      ],
      "execution_count": 46,
      "outputs": []
    },
    {
      "cell_type": "code",
      "metadata": {
        "id": "gk8RgAPW8GI9"
      },
      "source": [
        "# Mounting my google drive\n",
        "from google.colab import drive"
      ],
      "execution_count": 10,
      "outputs": []
    },
    {
      "cell_type": "code",
      "metadata": {
        "colab": {
          "base_uri": "https://localhost:8080/"
        },
        "id": "GYe8F0IW8HdJ",
        "outputId": "d5c85cb1-5619-43ef-fb45-09bcc7e7c5b2"
      },
      "source": [
        "drive.mount('/content/gdrive', force_remount=True)"
      ],
      "execution_count": 11,
      "outputs": [
        {
          "output_type": "stream",
          "text": [
            "Mounted at /content/gdrive\n"
          ],
          "name": "stdout"
        }
      ]
    },
    {
      "cell_type": "code",
      "metadata": {
        "id": "OdKAhbpj4O8f"
      },
      "source": [
        "#Create DataFrame\n",
        "ss = pd.read_csv('/content/gdrive/MyDrive/Biogaz_Flow/Real_Plant_Data.csv')"
      ],
      "execution_count": 12,
      "outputs": []
    },
    {
      "cell_type": "code",
      "metadata": {
        "colab": {
          "base_uri": "https://localhost:8080/",
          "height": 204
        },
        "id": "qKPrc25OQgME",
        "outputId": "6c03855d-a868-4a79-b25d-cbc0d0557405"
      },
      "source": [
        "del ss['Date'] # Deleting the 'Date' column\n",
        "ss.head()"
      ],
      "execution_count": 13,
      "outputs": [
        {
          "output_type": "execute_result",
          "data": {
            "text/html": [
              "<div>\n",
              "<style scoped>\n",
              "    .dataframe tbody tr th:only-of-type {\n",
              "        vertical-align: middle;\n",
              "    }\n",
              "\n",
              "    .dataframe tbody tr th {\n",
              "        vertical-align: top;\n",
              "    }\n",
              "\n",
              "    .dataframe thead th {\n",
              "        text-align: right;\n",
              "    }\n",
              "</style>\n",
              "<table border=\"1\" class=\"dataframe\">\n",
              "  <thead>\n",
              "    <tr style=\"text-align: right;\">\n",
              "      <th></th>\n",
              "      <th>TMF</th>\n",
              "      <th>TKM_percent</th>\n",
              "      <th>TUKM_percent</th>\n",
              "      <th>Alcantine</th>\n",
              "      <th>Fatty_Accid</th>\n",
              "      <th>Total_Biogaz_Production</th>\n",
              "    </tr>\n",
              "  </thead>\n",
              "  <tbody>\n",
              "    <tr>\n",
              "      <th>0</th>\n",
              "      <td>240</td>\n",
              "      <td>46.26</td>\n",
              "      <td>33.15</td>\n",
              "      <td>787.0</td>\n",
              "      <td>244.36</td>\n",
              "      <td>2113</td>\n",
              "    </tr>\n",
              "    <tr>\n",
              "      <th>1</th>\n",
              "      <td>120</td>\n",
              "      <td>44.77</td>\n",
              "      <td>22.02</td>\n",
              "      <td>983.0</td>\n",
              "      <td>413.54</td>\n",
              "      <td>1754</td>\n",
              "    </tr>\n",
              "    <tr>\n",
              "      <th>2</th>\n",
              "      <td>200</td>\n",
              "      <td>44.45</td>\n",
              "      <td>22.61</td>\n",
              "      <td>740.0</td>\n",
              "      <td>378.60</td>\n",
              "      <td>1884</td>\n",
              "    </tr>\n",
              "    <tr>\n",
              "      <th>3</th>\n",
              "      <td>160</td>\n",
              "      <td>44.31</td>\n",
              "      <td>26.64</td>\n",
              "      <td>761.0</td>\n",
              "      <td>353.66</td>\n",
              "      <td>1768</td>\n",
              "    </tr>\n",
              "    <tr>\n",
              "      <th>4</th>\n",
              "      <td>200</td>\n",
              "      <td>50.58</td>\n",
              "      <td>23.23</td>\n",
              "      <td>748.0</td>\n",
              "      <td>343.96</td>\n",
              "      <td>1715</td>\n",
              "    </tr>\n",
              "  </tbody>\n",
              "</table>\n",
              "</div>"
            ],
            "text/plain": [
              "   TMF  TKM_percent  ...  Fatty_Accid  Total_Biogaz_Production\n",
              "0  240        46.26  ...       244.36                     2113\n",
              "1  120        44.77  ...       413.54                     1754\n",
              "2  200        44.45  ...       378.60                     1884\n",
              "3  160        44.31  ...       353.66                     1768\n",
              "4  200        50.58  ...       343.96                     1715\n",
              "\n",
              "[5 rows x 6 columns]"
            ]
          },
          "metadata": {
            "tags": []
          },
          "execution_count": 13
        }
      ]
    },
    {
      "cell_type": "code",
      "metadata": {
        "id": "yX-DzTb3QssR"
      },
      "source": [
        "d = preprocessing.minmax_scale(ss) # Applying normalization on the data"
      ],
      "execution_count": 14,
      "outputs": []
    },
    {
      "cell_type": "code",
      "metadata": {
        "id": "8zo4I21vfEbK",
        "colab": {
          "base_uri": "https://localhost:8080/"
        },
        "outputId": "e44105ea-37d6-4f17-f9d8-863b589eee56"
      },
      "source": [
        "d"
      ],
      "execution_count": 15,
      "outputs": [
        {
          "output_type": "execute_result",
          "data": {
            "text/plain": [
              "array([[0.07906977, 0.35562731, 0.49103836, 0.25709628, 0.13314154,\n",
              "        0.07240799],\n",
              "       [0.02325581, 0.34417282, 0.3261739 , 0.32112534, 0.22532065,\n",
              "        0.05513592],\n",
              "       [0.06046512, 0.34171279, 0.33491335, 0.24174237, 0.2062833 ,\n",
              "        0.06139043],\n",
              "       ...,\n",
              "       [0.34418605, 0.55004613, 0.50866538, 0.14047192, 0.03456035,\n",
              "        0.25316334],\n",
              "       [0.47906977, 0.76737392, 0.70967264, 0.13393834, 0.02668715,\n",
              "        0.22126534],\n",
              "       [0.48372093, 0.66128536, 0.61161309, 0.35552463, 0.20717142,\n",
              "        0.33403897]])"
            ]
          },
          "metadata": {
            "tags": []
          },
          "execution_count": 15
        }
      ]
    },
    {
      "cell_type": "code",
      "metadata": {
        "id": "NcEbv6HJQ3jh"
      },
      "source": [
        "names = ss.columns\n",
        "df = pd.DataFrame(d, columns=names)"
      ],
      "execution_count": 16,
      "outputs": []
    },
    {
      "cell_type": "code",
      "metadata": {
        "colab": {
          "base_uri": "https://localhost:8080/",
          "height": 419
        },
        "id": "DWfi6FY78mJ0",
        "outputId": "03a2f38c-fbd6-42a9-8824-0f98b2a21336"
      },
      "source": [
        "df"
      ],
      "execution_count": 17,
      "outputs": [
        {
          "output_type": "execute_result",
          "data": {
            "text/html": [
              "<div>\n",
              "<style scoped>\n",
              "    .dataframe tbody tr th:only-of-type {\n",
              "        vertical-align: middle;\n",
              "    }\n",
              "\n",
              "    .dataframe tbody tr th {\n",
              "        vertical-align: top;\n",
              "    }\n",
              "\n",
              "    .dataframe thead th {\n",
              "        text-align: right;\n",
              "    }\n",
              "</style>\n",
              "<table border=\"1\" class=\"dataframe\">\n",
              "  <thead>\n",
              "    <tr style=\"text-align: right;\">\n",
              "      <th></th>\n",
              "      <th>TMF</th>\n",
              "      <th>TKM_percent</th>\n",
              "      <th>TUKM_percent</th>\n",
              "      <th>Alcantine</th>\n",
              "      <th>Fatty_Accid</th>\n",
              "      <th>Total_Biogaz_Production</th>\n",
              "    </tr>\n",
              "  </thead>\n",
              "  <tbody>\n",
              "    <tr>\n",
              "      <th>0</th>\n",
              "      <td>0.079070</td>\n",
              "      <td>0.355627</td>\n",
              "      <td>0.491038</td>\n",
              "      <td>0.257096</td>\n",
              "      <td>0.133142</td>\n",
              "      <td>0.072408</td>\n",
              "    </tr>\n",
              "    <tr>\n",
              "      <th>1</th>\n",
              "      <td>0.023256</td>\n",
              "      <td>0.344173</td>\n",
              "      <td>0.326174</td>\n",
              "      <td>0.321125</td>\n",
              "      <td>0.225321</td>\n",
              "      <td>0.055136</td>\n",
              "    </tr>\n",
              "    <tr>\n",
              "      <th>2</th>\n",
              "      <td>0.060465</td>\n",
              "      <td>0.341713</td>\n",
              "      <td>0.334913</td>\n",
              "      <td>0.241742</td>\n",
              "      <td>0.206283</td>\n",
              "      <td>0.061390</td>\n",
              "    </tr>\n",
              "    <tr>\n",
              "      <th>3</th>\n",
              "      <td>0.041860</td>\n",
              "      <td>0.340637</td>\n",
              "      <td>0.394608</td>\n",
              "      <td>0.248603</td>\n",
              "      <td>0.192695</td>\n",
              "      <td>0.055809</td>\n",
              "    </tr>\n",
              "    <tr>\n",
              "      <th>4</th>\n",
              "      <td>0.060465</td>\n",
              "      <td>0.388838</td>\n",
              "      <td>0.344097</td>\n",
              "      <td>0.244356</td>\n",
              "      <td>0.187409</td>\n",
              "      <td>0.053260</td>\n",
              "    </tr>\n",
              "    <tr>\n",
              "      <th>...</th>\n",
              "      <td>...</td>\n",
              "      <td>...</td>\n",
              "      <td>...</td>\n",
              "      <td>...</td>\n",
              "      <td>...</td>\n",
              "      <td>...</td>\n",
              "    </tr>\n",
              "    <tr>\n",
              "      <th>389</th>\n",
              "      <td>0.390698</td>\n",
              "      <td>0.360394</td>\n",
              "      <td>0.333284</td>\n",
              "      <td>0.100725</td>\n",
              "      <td>0.088485</td>\n",
              "      <td>0.265769</td>\n",
              "    </tr>\n",
              "    <tr>\n",
              "      <th>390</th>\n",
              "      <td>0.404651</td>\n",
              "      <td>0.293589</td>\n",
              "      <td>0.271515</td>\n",
              "      <td>0.090546</td>\n",
              "      <td>0.059526</td>\n",
              "      <td>0.238345</td>\n",
              "    </tr>\n",
              "    <tr>\n",
              "      <th>391</th>\n",
              "      <td>0.344186</td>\n",
              "      <td>0.550046</td>\n",
              "      <td>0.508665</td>\n",
              "      <td>0.140472</td>\n",
              "      <td>0.034560</td>\n",
              "      <td>0.253163</td>\n",
              "    </tr>\n",
              "    <tr>\n",
              "      <th>392</th>\n",
              "      <td>0.479070</td>\n",
              "      <td>0.767374</td>\n",
              "      <td>0.709673</td>\n",
              "      <td>0.133938</td>\n",
              "      <td>0.026687</td>\n",
              "      <td>0.221265</td>\n",
              "    </tr>\n",
              "    <tr>\n",
              "      <th>393</th>\n",
              "      <td>0.483721</td>\n",
              "      <td>0.661285</td>\n",
              "      <td>0.611613</td>\n",
              "      <td>0.355525</td>\n",
              "      <td>0.207171</td>\n",
              "      <td>0.334039</td>\n",
              "    </tr>\n",
              "  </tbody>\n",
              "</table>\n",
              "<p>394 rows × 6 columns</p>\n",
              "</div>"
            ],
            "text/plain": [
              "          TMF  TKM_percent  ...  Fatty_Accid  Total_Biogaz_Production\n",
              "0    0.079070     0.355627  ...     0.133142                 0.072408\n",
              "1    0.023256     0.344173  ...     0.225321                 0.055136\n",
              "2    0.060465     0.341713  ...     0.206283                 0.061390\n",
              "3    0.041860     0.340637  ...     0.192695                 0.055809\n",
              "4    0.060465     0.388838  ...     0.187409                 0.053260\n",
              "..        ...          ...  ...          ...                      ...\n",
              "389  0.390698     0.360394  ...     0.088485                 0.265769\n",
              "390  0.404651     0.293589  ...     0.059526                 0.238345\n",
              "391  0.344186     0.550046  ...     0.034560                 0.253163\n",
              "392  0.479070     0.767374  ...     0.026687                 0.221265\n",
              "393  0.483721     0.661285  ...     0.207171                 0.334039\n",
              "\n",
              "[394 rows x 6 columns]"
            ]
          },
          "metadata": {
            "tags": []
          },
          "execution_count": 17
        }
      ]
    },
    {
      "cell_type": "code",
      "metadata": {
        "id": "EJ6GuOzx392Z"
      },
      "source": [
        "def Mean_Square_Error(model, x_test, y_test):\n",
        "\tprediction = model.predict(x_test)\n",
        "\tprint (\"Mean Square error of model:\", mean_squared_error(y_test, prediction))"
      ],
      "execution_count": 21,
      "outputs": []
    },
    {
      "cell_type": "code",
      "metadata": {
        "id": "18ew_3pnfIeQ"
      },
      "source": [
        "def Root_Mean_Square_Error(model, x_test, y_test):\n",
        "\tprediction = model.predict(x_test)\n",
        "\tprint (\"Root Mean Square error of model:\", math.sqrt(mean_squared_error(y_test, prediction)))"
      ],
      "execution_count": 22,
      "outputs": []
    },
    {
      "cell_type": "code",
      "metadata": {
        "id": "wzjywDWwmimP"
      },
      "source": [
        "def Mean_Absolute_Percentage_Error(model, x_test, y_test):\n",
        "\tprediction = model.predict(x_test)\n",
        "\tprint (\"Mean Absolute Percentage error of model:\", mean_absolute_percentage_error(y_test, prediction))"
      ],
      "execution_count": 23,
      "outputs": []
    },
    {
      "cell_type": "code",
      "metadata": {
        "id": "wTDLqzTGqeR6"
      },
      "source": [
        "import hydroeval as he\n",
        "def NSE(model, x_test, y_test):\n",
        "\tprediction = model.predict(x_test)\n",
        "\tprint (\"NSE:\", he.evaluator(he.nse, y_test, prediction))"
      ],
      "execution_count": 44,
      "outputs": []
    },
    {
      "cell_type": "code",
      "metadata": {
        "id": "xBAHU868thDY"
      },
      "source": [
        "def Accuracy_Score(model, x_test, y_test):\n",
        "\tprediction = model.predict(x_test)\n",
        "\tprint (\"Accuracy Score:\", accuracy_score(y_test, prediction))"
      ],
      "execution_count": 47,
      "outputs": []
    },
    {
      "cell_type": "code",
      "metadata": {
        "id": "aAPgI9s14V_2"
      },
      "source": [
        "# Identifying the target feature by splitting the dataset\n",
        "samples = df.filter(['TMF', 'TKM_percent', 'TUKM_percent', 'Alcantine', 'Fatty_Accid'])\n",
        "scores = df.filter(['Total_Biogaz_Production'])\n",
        "\n",
        "#Setting a parameter for SVM model\n",
        "C = 0.1\n",
        "\n",
        "# Defining the number of features to investigate\n",
        "nFeatures = len(df.columns) - 1\n",
        "\n",
        "rfeIndex = nFeatures"
      ],
      "execution_count": 35,
      "outputs": []
    },
    {
      "cell_type": "code",
      "metadata": {
        "colab": {
          "base_uri": "https://localhost:8080/",
          "height": 419
        },
        "id": "u0bklU5bDokf",
        "outputId": "dfc5e597-8344-4af5-bbc0-6e9da84f7f00"
      },
      "source": [
        "samples"
      ],
      "execution_count": 28,
      "outputs": [
        {
          "output_type": "execute_result",
          "data": {
            "text/html": [
              "<div>\n",
              "<style scoped>\n",
              "    .dataframe tbody tr th:only-of-type {\n",
              "        vertical-align: middle;\n",
              "    }\n",
              "\n",
              "    .dataframe tbody tr th {\n",
              "        vertical-align: top;\n",
              "    }\n",
              "\n",
              "    .dataframe thead th {\n",
              "        text-align: right;\n",
              "    }\n",
              "</style>\n",
              "<table border=\"1\" class=\"dataframe\">\n",
              "  <thead>\n",
              "    <tr style=\"text-align: right;\">\n",
              "      <th></th>\n",
              "      <th>TMF</th>\n",
              "      <th>TKM_percent</th>\n",
              "      <th>TUKM_percent</th>\n",
              "      <th>Alcantine</th>\n",
              "      <th>Fatty_Accid</th>\n",
              "    </tr>\n",
              "  </thead>\n",
              "  <tbody>\n",
              "    <tr>\n",
              "      <th>0</th>\n",
              "      <td>0.079070</td>\n",
              "      <td>0.355627</td>\n",
              "      <td>0.491038</td>\n",
              "      <td>0.257096</td>\n",
              "      <td>0.133142</td>\n",
              "    </tr>\n",
              "    <tr>\n",
              "      <th>1</th>\n",
              "      <td>0.023256</td>\n",
              "      <td>0.344173</td>\n",
              "      <td>0.326174</td>\n",
              "      <td>0.321125</td>\n",
              "      <td>0.225321</td>\n",
              "    </tr>\n",
              "    <tr>\n",
              "      <th>2</th>\n",
              "      <td>0.060465</td>\n",
              "      <td>0.341713</td>\n",
              "      <td>0.334913</td>\n",
              "      <td>0.241742</td>\n",
              "      <td>0.206283</td>\n",
              "    </tr>\n",
              "    <tr>\n",
              "      <th>3</th>\n",
              "      <td>0.041860</td>\n",
              "      <td>0.340637</td>\n",
              "      <td>0.394608</td>\n",
              "      <td>0.248603</td>\n",
              "      <td>0.192695</td>\n",
              "    </tr>\n",
              "    <tr>\n",
              "      <th>4</th>\n",
              "      <td>0.060465</td>\n",
              "      <td>0.388838</td>\n",
              "      <td>0.344097</td>\n",
              "      <td>0.244356</td>\n",
              "      <td>0.187409</td>\n",
              "    </tr>\n",
              "    <tr>\n",
              "      <th>...</th>\n",
              "      <td>...</td>\n",
              "      <td>...</td>\n",
              "      <td>...</td>\n",
              "      <td>...</td>\n",
              "      <td>...</td>\n",
              "    </tr>\n",
              "    <tr>\n",
              "      <th>389</th>\n",
              "      <td>0.390698</td>\n",
              "      <td>0.360394</td>\n",
              "      <td>0.333284</td>\n",
              "      <td>0.100725</td>\n",
              "      <td>0.088485</td>\n",
              "    </tr>\n",
              "    <tr>\n",
              "      <th>390</th>\n",
              "      <td>0.404651</td>\n",
              "      <td>0.293589</td>\n",
              "      <td>0.271515</td>\n",
              "      <td>0.090546</td>\n",
              "      <td>0.059526</td>\n",
              "    </tr>\n",
              "    <tr>\n",
              "      <th>391</th>\n",
              "      <td>0.344186</td>\n",
              "      <td>0.550046</td>\n",
              "      <td>0.508665</td>\n",
              "      <td>0.140472</td>\n",
              "      <td>0.034560</td>\n",
              "    </tr>\n",
              "    <tr>\n",
              "      <th>392</th>\n",
              "      <td>0.479070</td>\n",
              "      <td>0.767374</td>\n",
              "      <td>0.709673</td>\n",
              "      <td>0.133938</td>\n",
              "      <td>0.026687</td>\n",
              "    </tr>\n",
              "    <tr>\n",
              "      <th>393</th>\n",
              "      <td>0.483721</td>\n",
              "      <td>0.661285</td>\n",
              "      <td>0.611613</td>\n",
              "      <td>0.355525</td>\n",
              "      <td>0.207171</td>\n",
              "    </tr>\n",
              "  </tbody>\n",
              "</table>\n",
              "<p>394 rows × 5 columns</p>\n",
              "</div>"
            ],
            "text/plain": [
              "          TMF  TKM_percent  TUKM_percent  Alcantine  Fatty_Accid\n",
              "0    0.079070     0.355627      0.491038   0.257096     0.133142\n",
              "1    0.023256     0.344173      0.326174   0.321125     0.225321\n",
              "2    0.060465     0.341713      0.334913   0.241742     0.206283\n",
              "3    0.041860     0.340637      0.394608   0.248603     0.192695\n",
              "4    0.060465     0.388838      0.344097   0.244356     0.187409\n",
              "..        ...          ...           ...        ...          ...\n",
              "389  0.390698     0.360394      0.333284   0.100725     0.088485\n",
              "390  0.404651     0.293589      0.271515   0.090546     0.059526\n",
              "391  0.344186     0.550046      0.508665   0.140472     0.034560\n",
              "392  0.479070     0.767374      0.709673   0.133938     0.026687\n",
              "393  0.483721     0.661285      0.611613   0.355525     0.207171\n",
              "\n",
              "[394 rows x 5 columns]"
            ]
          },
          "metadata": {
            "tags": []
          },
          "execution_count": 28
        }
      ]
    },
    {
      "cell_type": "code",
      "metadata": {
        "colab": {
          "base_uri": "https://localhost:8080/",
          "height": 419
        },
        "id": "M5JeWxcXDvud",
        "outputId": "010971e6-2614-410f-8f89-29274dfabb10"
      },
      "source": [
        "scores"
      ],
      "execution_count": 29,
      "outputs": [
        {
          "output_type": "execute_result",
          "data": {
            "text/html": [
              "<div>\n",
              "<style scoped>\n",
              "    .dataframe tbody tr th:only-of-type {\n",
              "        vertical-align: middle;\n",
              "    }\n",
              "\n",
              "    .dataframe tbody tr th {\n",
              "        vertical-align: top;\n",
              "    }\n",
              "\n",
              "    .dataframe thead th {\n",
              "        text-align: right;\n",
              "    }\n",
              "</style>\n",
              "<table border=\"1\" class=\"dataframe\">\n",
              "  <thead>\n",
              "    <tr style=\"text-align: right;\">\n",
              "      <th></th>\n",
              "      <th>Total_Biogaz_Production</th>\n",
              "    </tr>\n",
              "  </thead>\n",
              "  <tbody>\n",
              "    <tr>\n",
              "      <th>0</th>\n",
              "      <td>0.072408</td>\n",
              "    </tr>\n",
              "    <tr>\n",
              "      <th>1</th>\n",
              "      <td>0.055136</td>\n",
              "    </tr>\n",
              "    <tr>\n",
              "      <th>2</th>\n",
              "      <td>0.061390</td>\n",
              "    </tr>\n",
              "    <tr>\n",
              "      <th>3</th>\n",
              "      <td>0.055809</td>\n",
              "    </tr>\n",
              "    <tr>\n",
              "      <th>4</th>\n",
              "      <td>0.053260</td>\n",
              "    </tr>\n",
              "    <tr>\n",
              "      <th>...</th>\n",
              "      <td>...</td>\n",
              "    </tr>\n",
              "    <tr>\n",
              "      <th>389</th>\n",
              "      <td>0.265769</td>\n",
              "    </tr>\n",
              "    <tr>\n",
              "      <th>390</th>\n",
              "      <td>0.238345</td>\n",
              "    </tr>\n",
              "    <tr>\n",
              "      <th>391</th>\n",
              "      <td>0.253163</td>\n",
              "    </tr>\n",
              "    <tr>\n",
              "      <th>392</th>\n",
              "      <td>0.221265</td>\n",
              "    </tr>\n",
              "    <tr>\n",
              "      <th>393</th>\n",
              "      <td>0.334039</td>\n",
              "    </tr>\n",
              "  </tbody>\n",
              "</table>\n",
              "<p>394 rows × 1 columns</p>\n",
              "</div>"
            ],
            "text/plain": [
              "     Total_Biogaz_Production\n",
              "0                   0.072408\n",
              "1                   0.055136\n",
              "2                   0.061390\n",
              "3                   0.055809\n",
              "4                   0.053260\n",
              "..                       ...\n",
              "389                 0.265769\n",
              "390                 0.238345\n",
              "391                 0.253163\n",
              "392                 0.221265\n",
              "393                 0.334039\n",
              "\n",
              "[394 rows x 1 columns]"
            ]
          },
          "metadata": {
            "tags": []
          },
          "execution_count": 29
        }
      ]
    },
    {
      "cell_type": "markdown",
      "metadata": {
        "id": "mnRwGO_ilnof"
      },
      "source": [
        "# Mean Square Error "
      ]
    },
    {
      "cell_type": "code",
      "metadata": {
        "colab": {
          "base_uri": "https://localhost:8080/"
        },
        "id": "mvwOnsY04col",
        "outputId": "56fb0a0e-315a-4b82-fe1c-67051c3d5670"
      },
      "source": [
        "#Recursively eliminate features based on the lowest weight\n",
        "while True:\n",
        "\t#Split into training and testing\n",
        "\tx_train, x_test, y_train, y_test = train_test_split(samples, scores, test_size = 0.50, train_size=0.50)\n",
        "\t\n",
        "\t#Create SVM model using a linear kernel\n",
        "\tmodel = svm.SVR(kernel='linear', C=C).fit(x_train, y_train)\n",
        "\tcoef = model.coef_\n",
        "\n",
        "\t#Print co-efficients of features\n",
        "\tfor i in range(0, nFeatures):\n",
        "\t\tprint(samples.columns[i-1],\":\", coef[0][i-1])\n",
        "\t\n",
        "\t#Find the minimum weight among features and eliminate the feature with the smallest weight\n",
        "\tmin = coef[0][0]\n",
        "\tindex = 0\n",
        "\tfor i in range(0, rfeIndex):\n",
        "\t\tif min > coef[0][i-1]:\n",
        "\t\t\tindex = index + 1\n",
        "\t\t\tmin = coef[0][i-1]\n",
        "\tif len(samples.columns) == 1:\n",
        "\t\tprint(\"After recursive elimination we have the\", samples.columns[index], \"feature with a score of:\", min)\n",
        "\t\tMean_Square_Error(model, x_test, y_test)\n",
        "\t\tbreak\n",
        "\telse:\n",
        "\t\tprint (\"Lowest feature weight is for\", samples.columns[index], \"with a value of:\", min)\n",
        "\t\tprint (\"Dropping feature\", samples.columns[index])  \n",
        "\n",
        "\t\t#Drop the feature in the 'samples' dataframe based on the lowest feature index\n",
        "\t\tsamples.drop(samples.columns[index], axis = 1, inplace = True)\n",
        "\t\tMean_Square_Error(model, x_test, y_test)\n",
        "\t\tprint (\"\\n\")\n",
        "\t\trfeIndex = rfeIndex - 1\n",
        "\t\tnFeatures = nFeatures - 1"
      ],
      "execution_count": 37,
      "outputs": [
        {
          "output_type": "stream",
          "text": [
            "Fatty_Accid : 0.060265365117671194\n",
            "TMF : 0.42223711792726415\n",
            "TKM_percent : 0.0704458258090414\n",
            "TUKM_percent : 0.12843152071477865\n",
            "Alcantine : 0.08337486946210618\n",
            "Lowest feature weight is for TKM_percent with a value of: 0.060265365117671194\n",
            "Dropping feature TKM_percent\n",
            "Mean Square error of model: 0.025470455707291922\n",
            "\n",
            "\n",
            "Fatty_Accid : 0.07990718535045599\n",
            "TMF : 0.4906185493957137\n",
            "TUKM_percent : 0.05720508092087381\n",
            "Alcantine : 0.005444162071778558\n",
            "Lowest feature weight is for Fatty_Accid with a value of: 0.005444162071778558\n",
            "Dropping feature Fatty_Accid\n",
            "Mean Square error of model: 0.020529856086165275\n",
            "\n",
            "\n",
            "Alcantine : 0.026626942514316694\n",
            "TMF : 0.4613953488372094\n",
            "TUKM_percent : 0.12596652347800316\n",
            "Lowest feature weight is for TUKM_percent with a value of: 0.026626942514316694\n",
            "Dropping feature TUKM_percent\n",
            "Mean Square error of model: 0.01574260862680501\n",
            "\n",
            "\n",
            "Alcantine : -0.004239965241366744\n",
            "TMF : 0.4727906976744186\n",
            "Lowest feature weight is for Alcantine with a value of: -0.004239965241366744\n",
            "Dropping feature Alcantine\n",
            "Mean Square error of model: 0.015357929512347206\n",
            "\n",
            "\n",
            "TMF : 0.4478951195998087\n",
            "After recursive elimination we have the TMF feature with a score of: 0.4478951195998087\n",
            "Mean Square error of model: 0.02340546666406418\n"
          ],
          "name": "stdout"
        },
        {
          "output_type": "stream",
          "text": [
            "/usr/local/lib/python3.7/dist-packages/sklearn/utils/validation.py:63: DataConversionWarning: A column-vector y was passed when a 1d array was expected. Please change the shape of y to (n_samples, ), for example using ravel().\n",
            "  return f(*args, **kwargs)\n",
            "/usr/local/lib/python3.7/dist-packages/sklearn/utils/validation.py:63: DataConversionWarning: A column-vector y was passed when a 1d array was expected. Please change the shape of y to (n_samples, ), for example using ravel().\n",
            "  return f(*args, **kwargs)\n",
            "/usr/local/lib/python3.7/dist-packages/sklearn/utils/validation.py:63: DataConversionWarning: A column-vector y was passed when a 1d array was expected. Please change the shape of y to (n_samples, ), for example using ravel().\n",
            "  return f(*args, **kwargs)\n",
            "/usr/local/lib/python3.7/dist-packages/sklearn/utils/validation.py:63: DataConversionWarning: A column-vector y was passed when a 1d array was expected. Please change the shape of y to (n_samples, ), for example using ravel().\n",
            "  return f(*args, **kwargs)\n",
            "/usr/local/lib/python3.7/dist-packages/sklearn/utils/validation.py:63: DataConversionWarning: A column-vector y was passed when a 1d array was expected. Please change the shape of y to (n_samples, ), for example using ravel().\n",
            "  return f(*args, **kwargs)\n"
          ],
          "name": "stderr"
        }
      ]
    },
    {
      "cell_type": "markdown",
      "metadata": {
        "id": "0QjT6QDUlzBM"
      },
      "source": [
        "# Root Mean Square Error"
      ]
    },
    {
      "cell_type": "code",
      "metadata": {
        "id": "ZLZ_PuuhsdjP"
      },
      "source": [
        "# Identifying the target feature by splitting the dataset\n",
        "samples = df.filter(['TMF', 'TKM_percent', 'TUKM_percent', 'Alcantine', 'Fatty_Accid'])\n",
        "scores = df.filter(['Total_Biogaz_Production'])\n",
        "\n",
        "#Setting a parameter for SVM model\n",
        "C = 0.1\n",
        "\n",
        "# Defining the number of features to investigate\n",
        "nFeatures = len(df.columns) - 1\n",
        "\n",
        "rfeIndex = nFeatures"
      ],
      "execution_count": 38,
      "outputs": []
    },
    {
      "cell_type": "code",
      "metadata": {
        "id": "VtB9eEYMlt1q",
        "outputId": "64cbfaca-e2ff-4472-9769-d5c54a34718f",
        "colab": {
          "base_uri": "https://localhost:8080/"
        }
      },
      "source": [
        "#Recursively eliminate features based on the lowest weight\n",
        "while True:\n",
        "\t#Split into training and testing\n",
        "\tx_train, x_test, y_train, y_test = train_test_split(samples, scores, test_size = 0.50, train_size=0.5)\n",
        "\t\n",
        "\t#Create SVM model using a linear kernel\n",
        "\tmodel = svm.SVR(kernel='linear', C=C).fit(x_train, y_train)\n",
        "\tcoef = model.coef_\n",
        "\n",
        "\t#Print co-efficients of features\n",
        "\tfor i in range(0, nFeatures):\n",
        "\t\tprint(samples.columns[i-1],\":\", coef[0][i-1])\n",
        "\t\n",
        "\t#Find the minimum weight among features and eliminate the feature with the smallest weight\n",
        "\tmin = coef[0][0]\n",
        "\tindex = 0\n",
        "\tfor i in range(0, rfeIndex):\n",
        "\t\tif min > coef[0][i-1]:\n",
        "\t\t\tindex = index + 1\n",
        "\t\t\tmin = coef[0][i-1]\n",
        "\tif len(samples.columns) == 1:\n",
        "\t\tprint(\"After recursive elimination we have the\", samples.columns[index], \"feature with a score of:\", min)\n",
        "\t\tRoot_Mean_Square_Error(model, x_test, y_test)\n",
        "\t\tbreak\n",
        "\telse:\n",
        "\t\tprint (\"Lowest feature weight is for\", samples.columns[index], \"with a value of:\", min)\n",
        "\t\tprint (\"Dropping feature\", samples.columns[index])  \n",
        "\n",
        "\t\t#Drop the feature in the 'samples' dataframe based on the lowest feature index\n",
        "\t\tsamples.drop(samples.columns[index], axis = 1, inplace = True)\n",
        "\t\tRoot_Mean_Square_Error(model, x_test, y_test)\n",
        "\t\tprint (\"\\n\")\n",
        "\t\trfeIndex = rfeIndex - 1\n",
        "\t\tnFeatures = nFeatures - 1"
      ],
      "execution_count": 39,
      "outputs": [
        {
          "output_type": "stream",
          "text": [
            "Fatty_Accid : 0.034870923098717393\n",
            "TMF : 0.45906976744186057\n",
            "TKM_percent : 0.07210947109471096\n",
            "TUKM_percent : 0.14922233743149163\n",
            "Alcantine : -0.058315120985524875\n",
            "Lowest feature weight is for TUKM_percent with a value of: -0.058315120985524875\n",
            "Dropping feature TUKM_percent\n",
            "Root Mean Square error of model: 0.1479612577153315\n",
            "\n",
            "\n",
            "Fatty_Accid : 0.08834346566813592\n",
            "TMF : 0.46054320229536316\n",
            "TKM_percent : 0.07365196233638827\n",
            "Alcantine : 4.685882842340311e-05\n",
            "Lowest feature weight is for Fatty_Accid with a value of: 4.685882842340311e-05\n",
            "Dropping feature Fatty_Accid\n",
            "Root Mean Square error of model: 0.14060904669839455\n",
            "\n",
            "\n",
            "Alcantine : 0.006593545000335522\n",
            "TMF : 0.4921811101404076\n",
            "TKM_percent : 0.08949931887178011\n",
            "Lowest feature weight is for TKM_percent with a value of: 0.006593545000335522\n",
            "Dropping feature TKM_percent\n",
            "Root Mean Square error of model: 0.14173575802559235\n",
            "\n",
            "\n",
            "Alcantine : -0.02450182329512647\n",
            "TMF : 0.4685326595118863\n",
            "Lowest feature weight is for Alcantine with a value of: -0.02450182329512647\n",
            "Dropping feature Alcantine\n",
            "Root Mean Square error of model: 0.13591746123912016\n",
            "\n",
            "\n",
            "TMF : 0.48441860465116277\n",
            "After recursive elimination we have the TMF feature with a score of: 0.48441860465116277\n",
            "Root Mean Square error of model: 0.13514649553997318\n"
          ],
          "name": "stdout"
        },
        {
          "output_type": "stream",
          "text": [
            "/usr/local/lib/python3.7/dist-packages/sklearn/utils/validation.py:63: DataConversionWarning: A column-vector y was passed when a 1d array was expected. Please change the shape of y to (n_samples, ), for example using ravel().\n",
            "  return f(*args, **kwargs)\n",
            "/usr/local/lib/python3.7/dist-packages/sklearn/utils/validation.py:63: DataConversionWarning: A column-vector y was passed when a 1d array was expected. Please change the shape of y to (n_samples, ), for example using ravel().\n",
            "  return f(*args, **kwargs)\n",
            "/usr/local/lib/python3.7/dist-packages/sklearn/utils/validation.py:63: DataConversionWarning: A column-vector y was passed when a 1d array was expected. Please change the shape of y to (n_samples, ), for example using ravel().\n",
            "  return f(*args, **kwargs)\n",
            "/usr/local/lib/python3.7/dist-packages/sklearn/utils/validation.py:63: DataConversionWarning: A column-vector y was passed when a 1d array was expected. Please change the shape of y to (n_samples, ), for example using ravel().\n",
            "  return f(*args, **kwargs)\n",
            "/usr/local/lib/python3.7/dist-packages/sklearn/utils/validation.py:63: DataConversionWarning: A column-vector y was passed when a 1d array was expected. Please change the shape of y to (n_samples, ), for example using ravel().\n",
            "  return f(*args, **kwargs)\n"
          ],
          "name": "stderr"
        }
      ]
    },
    {
      "cell_type": "markdown",
      "metadata": {
        "id": "pMwamz_OoeQF"
      },
      "source": [
        "# Mean Absolute Percentage Error"
      ]
    },
    {
      "cell_type": "code",
      "metadata": {
        "id": "1oWjZkcHsKjK"
      },
      "source": [
        "# Identifying the target feature by splitting the dataset\n",
        "samples = df.filter(['TMF', 'TKM_percent', 'TUKM_percent', 'Alcantine', 'Fatty_Accid'])\n",
        "scores = df.filter(['Total_Biogaz_Production'])\n",
        "\n",
        "#Setting a parameter for SVM model\n",
        "C = 0.1\n",
        "\n",
        "# Defining the number of features to investigate\n",
        "nFeatures = len(df.columns) - 1\n",
        "\n",
        "rfeIndex = nFeatures"
      ],
      "execution_count": 40,
      "outputs": []
    },
    {
      "cell_type": "code",
      "metadata": {
        "id": "CY3zrGQcogay",
        "outputId": "86330024-7436-4f71-ca93-15fa3bde4010",
        "colab": {
          "base_uri": "https://localhost:8080/"
        }
      },
      "source": [
        "#Recursively eliminate features based on the lowest weight\n",
        "while True:\n",
        "\t#Split into training and testing\n",
        "\tx_train, x_test, y_train, y_test = train_test_split(samples, scores, test_size = 0.50, train_size=0.5)\n",
        "\t\n",
        "\t#Create SVM model using a linear kernel\n",
        "\tmodel = svm.SVR(kernel='linear', C=C).fit(x_train, y_train)\n",
        "\tcoef = model.coef_\n",
        "\n",
        "\t#Print co-efficients of features\n",
        "\tfor i in range(0, nFeatures):\n",
        "\t\tprint(samples.columns[i-1],\":\", coef[0][i-1])\n",
        "\t\n",
        "\t#Find the minimum weight among features and eliminate the feature with the smallest weight\n",
        "\tmin = coef[0][0]\n",
        "\tindex = 0\n",
        "\tfor i in range(0, rfeIndex):\n",
        "\t\tif min > coef[0][i-1]:\n",
        "\t\t\tindex = index + 1\n",
        "\t\t\tmin = coef[0][i-1]\n",
        "\tif len(samples.columns) == 1:\n",
        "\t\tprint(\"After recursive elimination we have the\", samples.columns[index], \"feature with a score of:\", min)\n",
        "\t\tMean_Absolute_Percentage_Error(model, x_test, y_test)\n",
        "\t\tbreak\n",
        "\telse:\n",
        "\t\tprint (\"Lowest feature weight is for\", samples.columns[index], \"with a value of:\", min)\n",
        "\t\tprint (\"Dropping feature\", samples.columns[index])  \n",
        "\n",
        "\t\t#Drop the feature in the 'samples' dataframe based on the lowest feature index\n",
        "\t\tsamples.drop(samples.columns[index], axis = 1, inplace = True)\n",
        "\t\tMean_Absolute_Percentage_Error(model, x_test, y_test)\n",
        "\t\tprint (\"\\n\")\n",
        "\t\trfeIndex = rfeIndex - 1\n",
        "\t\tnFeatures = nFeatures - 1"
      ],
      "execution_count": 41,
      "outputs": [
        {
          "output_type": "stream",
          "text": [
            "Fatty_Accid : 0.12402068674514577\n",
            "TMF : 0.45773691418522267\n",
            "TKM_percent : 0.08176853964403846\n",
            "TUKM_percent : 0.06157214479947989\n",
            "Alcantine : -0.01792427078394075\n",
            "Lowest feature weight is for Fatty_Accid with a value of: -0.01792427078394075\n",
            "Dropping feature Fatty_Accid\n",
            "Mean Absolute Percentage error of model: 0.7346963248363217\n",
            "\n",
            "\n",
            "Alcantine : 0.06365281946554778\n",
            "TMF : 0.4708054414840145\n",
            "TKM_percent : 0.006847213442698924\n",
            "TUKM_percent : 0.04523464071943977\n",
            "Lowest feature weight is for TUKM_percent with a value of: 0.006847213442698924\n",
            "Dropping feature TUKM_percent\n",
            "Mean Absolute Percentage error of model: 0.481619171687182\n",
            "\n",
            "\n",
            "Alcantine : 0.01531062455777692\n",
            "TMF : 0.44844354552187454\n",
            "TKM_percent : 0.0762504270254013\n",
            "Lowest feature weight is for TKM_percent with a value of: 0.01531062455777692\n",
            "Dropping feature TKM_percent\n",
            "Mean Absolute Percentage error of model: 3053556247443.168\n",
            "\n",
            "\n",
            "Alcantine : 0.026687985017923854\n",
            "TMF : 0.479427333416226\n",
            "Lowest feature weight is for Alcantine with a value of: 0.026687985017923854\n",
            "Dropping feature Alcantine\n",
            "Mean Absolute Percentage error of model: 0.46641298008522997\n",
            "\n",
            "\n",
            "TMF : 0.49644508079576216\n",
            "After recursive elimination we have the TMF feature with a score of: 0.49644508079576216\n",
            "Mean Absolute Percentage error of model: 2628508609390.727\n"
          ],
          "name": "stdout"
        },
        {
          "output_type": "stream",
          "text": [
            "/usr/local/lib/python3.7/dist-packages/sklearn/utils/validation.py:63: DataConversionWarning: A column-vector y was passed when a 1d array was expected. Please change the shape of y to (n_samples, ), for example using ravel().\n",
            "  return f(*args, **kwargs)\n",
            "/usr/local/lib/python3.7/dist-packages/sklearn/utils/validation.py:63: DataConversionWarning: A column-vector y was passed when a 1d array was expected. Please change the shape of y to (n_samples, ), for example using ravel().\n",
            "  return f(*args, **kwargs)\n",
            "/usr/local/lib/python3.7/dist-packages/sklearn/utils/validation.py:63: DataConversionWarning: A column-vector y was passed when a 1d array was expected. Please change the shape of y to (n_samples, ), for example using ravel().\n",
            "  return f(*args, **kwargs)\n",
            "/usr/local/lib/python3.7/dist-packages/sklearn/utils/validation.py:63: DataConversionWarning: A column-vector y was passed when a 1d array was expected. Please change the shape of y to (n_samples, ), for example using ravel().\n",
            "  return f(*args, **kwargs)\n",
            "/usr/local/lib/python3.7/dist-packages/sklearn/utils/validation.py:63: DataConversionWarning: A column-vector y was passed when a 1d array was expected. Please change the shape of y to (n_samples, ), for example using ravel().\n",
            "  return f(*args, **kwargs)\n"
          ],
          "name": "stderr"
        }
      ]
    },
    {
      "cell_type": "markdown",
      "metadata": {
        "id": "juBPllBIrCV5"
      },
      "source": [
        "# Nash-Sutcliffe Efficiency "
      ]
    },
    {
      "cell_type": "code",
      "metadata": {
        "id": "rfeF1fGxsMS0"
      },
      "source": [
        "# Identifying the target feature by splitting the dataset\n",
        "samples = df.filter(['TMF', 'TKM_percent', 'TUKM_percent', 'Alcantine', 'Fatty_Accid'])\n",
        "scores = df.filter(['Total_Biogaz_Production'])\n",
        "\n",
        "#Setting a parameter for SVM model\n",
        "C = 0.1\n",
        "\n",
        "# Defining the number of features to investigate\n",
        "nFeatures = len(df.columns) - 1\n",
        "\n",
        "rfeIndex = nFeatures"
      ],
      "execution_count": 42,
      "outputs": []
    },
    {
      "cell_type": "code",
      "metadata": {
        "id": "W5JYR4hTrBZh",
        "outputId": "6498cb2a-e333-4710-8414-255d8f92e2d1",
        "colab": {
          "base_uri": "https://localhost:8080/"
        }
      },
      "source": [
        "#Recursively eliminate features based on the lowest weight\n",
        "while True:\n",
        "\t#Split into training and testing\n",
        "\tx_train, x_test, y_train, y_test = train_test_split(samples, scores, test_size = 0.50, train_size=0.5)\n",
        "\t\n",
        "\t#Create SVM model using a linear kernel\n",
        "\tmodel = svm.SVR(kernel='linear', C=C).fit(x_train, y_train)\n",
        "\tcoef = model.coef_\n",
        "\n",
        "\t#Print co-efficients of features\n",
        "\tfor i in range(0, nFeatures):\n",
        "\t\tprint(samples.columns[i-1],\":\", coef[0][i-1])\n",
        "\t\n",
        "\t#Find the minimum weight among features and eliminate the feature with the smallest weight\n",
        "\tmin = coef[0][0]\n",
        "\tindex = 0\n",
        "\tfor i in range(0, rfeIndex):\n",
        "\t\tif min > coef[0][i-1]:\n",
        "\t\t\tindex = index + 1\n",
        "\t\t\tmin = coef[0][i-1]\n",
        "\tif len(samples.columns) == 1:\n",
        "\t\tprint(\"After recursive elimination we have the\", samples.columns[index], \"feature with a score of:\", min)\n",
        "\t\tNSE(model, x_test, y_test)\n",
        "\t\tbreak\n",
        "\telse:\n",
        "\t\tprint (\"Lowest feature weight is for\", samples.columns[index], \"with a value of:\", min)\n",
        "\t\tprint (\"Dropping feature\", samples.columns[index])  \n",
        "\n",
        "\t\t#Drop the feature in the 'samples' dataframe based on the lowest feature index\n",
        "\t\tsamples.drop(samples.columns[index], axis = 1, inplace = True)\n",
        "\t\tNSE(model, x_test, y_test)\n",
        "\t\tprint (\"\\n\")\n",
        "\t\trfeIndex = rfeIndex - 1\n",
        "\t\tnFeatures = nFeatures - 1"
      ],
      "execution_count": 45,
      "outputs": [
        {
          "output_type": "stream",
          "text": [
            "Fatty_Accid : 0.09782099178070802\n",
            "TMF : 0.4564922771873922\n",
            "TKM_percent : 0.12049724659022157\n",
            "TUKM_percent : 0.11210409777620711\n",
            "Fatty_Accid : 0.09782099178070802\n",
            "Lowest feature weight is for TKM_percent with a value of: 0.09782099178070802\n",
            "Dropping feature TKM_percent\n",
            "NSE: [-1.20125781]\n",
            "\n",
            "\n",
            "Fatty_Accid : 0.08308843407688868\n",
            "TMF : 0.4993231737804894\n",
            "TUKM_percent : 0.04515690986712856\n",
            "Fatty_Accid : 0.08308843407688868\n",
            "Lowest feature weight is for Fatty_Accid with a value of: 0.04515690986712856\n",
            "Dropping feature Fatty_Accid\n",
            "NSE: [-0.75443839]\n",
            "\n",
            "\n",
            "TUKM_percent : 0.08644342440329285\n",
            "TMF : 0.45032443680110235\n",
            "TUKM_percent : 0.08644342440329285\n",
            "Lowest feature weight is for TUKM_percent with a value of: 0.08644342440329285\n",
            "Dropping feature TUKM_percent\n",
            "NSE: [-1.27311901]\n",
            "\n",
            "\n",
            "TMF : 0.4379069767441861\n",
            "TMF : 0.4379069767441861\n",
            "After recursive elimination we have the TMF feature with a score of: 0.4379069767441861\n",
            "NSE: [-1.74880533]\n"
          ],
          "name": "stdout"
        },
        {
          "output_type": "stream",
          "text": [
            "/usr/local/lib/python3.7/dist-packages/sklearn/utils/validation.py:63: DataConversionWarning: A column-vector y was passed when a 1d array was expected. Please change the shape of y to (n_samples, ), for example using ravel().\n",
            "  return f(*args, **kwargs)\n",
            "/usr/local/lib/python3.7/dist-packages/sklearn/utils/validation.py:63: DataConversionWarning: A column-vector y was passed when a 1d array was expected. Please change the shape of y to (n_samples, ), for example using ravel().\n",
            "  return f(*args, **kwargs)\n",
            "/usr/local/lib/python3.7/dist-packages/sklearn/utils/validation.py:63: DataConversionWarning: A column-vector y was passed when a 1d array was expected. Please change the shape of y to (n_samples, ), for example using ravel().\n",
            "  return f(*args, **kwargs)\n",
            "/usr/local/lib/python3.7/dist-packages/sklearn/utils/validation.py:63: DataConversionWarning: A column-vector y was passed when a 1d array was expected. Please change the shape of y to (n_samples, ), for example using ravel().\n",
            "  return f(*args, **kwargs)\n"
          ],
          "name": "stderr"
        }
      ]
    }
  ]
}