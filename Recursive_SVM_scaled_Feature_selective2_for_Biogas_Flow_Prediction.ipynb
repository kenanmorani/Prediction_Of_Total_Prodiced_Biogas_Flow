{
  "nbformat": 4,
  "nbformat_minor": 0,
  "metadata": {
    "colab": {
      "name": "Recursive_SVM_Standard_scaled_Feature_selective_for_Biogas_Flow_Prediction",
      "provenance": [],
      "collapsed_sections": [],
      "toc_visible": true
    },
    "kernelspec": {
      "display_name": "Python 3",
      "name": "python3"
    }
  },
  "cells": [
    {
      "cell_type": "code",
      "metadata": {
        "id": "UbFJZ4BY34JO"
      },
      "source": [
        "import pandas as pd\n",
        "from sklearn import svm\n",
        "from sklearn.model_selection import train_test_split\n",
        "from sklearn.metrics import mean_squared_error\n",
        "import warnings\n",
        "from sklearn import preprocessing"
      ],
      "execution_count": 1,
      "outputs": []
    },
    {
      "cell_type": "code",
      "metadata": {
        "id": "gk8RgAPW8GI9"
      },
      "source": [
        "# Mounting my google drive\n",
        "from google.colab import drive"
      ],
      "execution_count": 2,
      "outputs": []
    },
    {
      "cell_type": "code",
      "metadata": {
        "colab": {
          "base_uri": "https://localhost:8080/"
        },
        "id": "GYe8F0IW8HdJ",
        "outputId": "3634e263-0560-4696-b76b-c87bc070a4b3"
      },
      "source": [
        "drive.mount('/content/gdrive', force_remount=True)"
      ],
      "execution_count": 3,
      "outputs": [
        {
          "output_type": "stream",
          "text": [
            "Mounted at /content/gdrive\n"
          ],
          "name": "stdout"
        }
      ]
    },
    {
      "cell_type": "code",
      "metadata": {
        "id": "OdKAhbpj4O8f"
      },
      "source": [
        "#Create DataFrame\n",
        "ss = pd.read_csv('/content/gdrive/MyDrive/Biogaz_Flow/Real_Plant_Data.csv')"
      ],
      "execution_count": 4,
      "outputs": []
    },
    {
      "cell_type": "code",
      "metadata": {
        "colab": {
          "base_uri": "https://localhost:8080/",
          "height": 195
        },
        "id": "qKPrc25OQgME",
        "outputId": "9938dfe7-d0c7-4d7e-b148-197b98ecff29"
      },
      "source": [
        "del ss['Date'] # Deleting the 'Date' column\n",
        "ss.head()"
      ],
      "execution_count": 5,
      "outputs": [
        {
          "output_type": "execute_result",
          "data": {
            "text/html": [
              "<div>\n",
              "<style scoped>\n",
              "    .dataframe tbody tr th:only-of-type {\n",
              "        vertical-align: middle;\n",
              "    }\n",
              "\n",
              "    .dataframe tbody tr th {\n",
              "        vertical-align: top;\n",
              "    }\n",
              "\n",
              "    .dataframe thead th {\n",
              "        text-align: right;\n",
              "    }\n",
              "</style>\n",
              "<table border=\"1\" class=\"dataframe\">\n",
              "  <thead>\n",
              "    <tr style=\"text-align: right;\">\n",
              "      <th></th>\n",
              "      <th>TMF</th>\n",
              "      <th>TKM_percent</th>\n",
              "      <th>TUKM_percent</th>\n",
              "      <th>Alcantine</th>\n",
              "      <th>Fatty_Accid</th>\n",
              "      <th>Total_Biogaz_Production</th>\n",
              "    </tr>\n",
              "  </thead>\n",
              "  <tbody>\n",
              "    <tr>\n",
              "      <th>0</th>\n",
              "      <td>240</td>\n",
              "      <td>46.26</td>\n",
              "      <td>33.15</td>\n",
              "      <td>787.0</td>\n",
              "      <td>244.36</td>\n",
              "      <td>2113</td>\n",
              "    </tr>\n",
              "    <tr>\n",
              "      <th>1</th>\n",
              "      <td>120</td>\n",
              "      <td>44.77</td>\n",
              "      <td>22.02</td>\n",
              "      <td>983.0</td>\n",
              "      <td>413.54</td>\n",
              "      <td>1754</td>\n",
              "    </tr>\n",
              "    <tr>\n",
              "      <th>2</th>\n",
              "      <td>200</td>\n",
              "      <td>44.45</td>\n",
              "      <td>22.61</td>\n",
              "      <td>740.0</td>\n",
              "      <td>378.60</td>\n",
              "      <td>1884</td>\n",
              "    </tr>\n",
              "    <tr>\n",
              "      <th>3</th>\n",
              "      <td>160</td>\n",
              "      <td>44.31</td>\n",
              "      <td>26.64</td>\n",
              "      <td>761.0</td>\n",
              "      <td>353.66</td>\n",
              "      <td>1768</td>\n",
              "    </tr>\n",
              "    <tr>\n",
              "      <th>4</th>\n",
              "      <td>200</td>\n",
              "      <td>50.58</td>\n",
              "      <td>23.23</td>\n",
              "      <td>748.0</td>\n",
              "      <td>343.96</td>\n",
              "      <td>1715</td>\n",
              "    </tr>\n",
              "  </tbody>\n",
              "</table>\n",
              "</div>"
            ],
            "text/plain": [
              "   TMF  TKM_percent  ...  Fatty_Accid  Total_Biogaz_Production\n",
              "0  240        46.26  ...       244.36                     2113\n",
              "1  120        44.77  ...       413.54                     1754\n",
              "2  200        44.45  ...       378.60                     1884\n",
              "3  160        44.31  ...       353.66                     1768\n",
              "4  200        50.58  ...       343.96                     1715\n",
              "\n",
              "[5 rows x 6 columns]"
            ]
          },
          "metadata": {
            "tags": []
          },
          "execution_count": 5
        }
      ]
    },
    {
      "cell_type": "code",
      "metadata": {
        "id": "yX-DzTb3QssR"
      },
      "source": [
        "d = preprocessing.StandardScaler().fit(ss) # Applying normalization on the data"
      ],
      "execution_count": 6,
      "outputs": []
    },
    {
      "cell_type": "code",
      "metadata": {
        "id": "8zo4I21vfEbK",
        "colab": {
          "base_uri": "https://localhost:8080/"
        },
        "outputId": "d5b5a163-2e7d-49d5-e6c4-3e008a631970"
      },
      "source": [
        "d"
      ],
      "execution_count": 7,
      "outputs": [
        {
          "output_type": "execute_result",
          "data": {
            "text/plain": [
              "StandardScaler(copy=True, with_mean=True, with_std=True)"
            ]
          },
          "metadata": {
            "tags": []
          },
          "execution_count": 7
        }
      ]
    },
    {
      "cell_type": "code",
      "metadata": {
        "colab": {
          "base_uri": "https://localhost:8080/"
        },
        "id": "DWfi6FY78mJ0",
        "outputId": "7da5a2df-24f7-4ffe-8651-fa48ae191191"
      },
      "source": [
        "scaled_df"
      ],
      "execution_count": 9,
      "outputs": [
        {
          "output_type": "execute_result",
          "data": {
            "text/plain": [
              "array([[-1.45461464e+00, -1.23416448e-01,  1.13778768e+00,\n",
              "        -2.84290906e-01, -6.22474256e-01, -1.23313873e+00],\n",
              "       [-1.73122386e+00, -2.02531594e-01, -9.47259351e-02,\n",
              "         2.25673406e-01,  1.49532706e-01, -1.32404502e+00],\n",
              "       [-1.54681771e+00, -2.19522767e-01, -2.93905321e-02,\n",
              "        -4.06578267e-01, -9.90649066e-03, -1.29112631e+00],\n",
              "       ...,\n",
              "       [-1.40720845e-01,  1.21941714e+00,  1.26956587e+00,\n",
              "        -1.21315447e+00, -1.44809915e+00, -2.81787913e-01],\n",
              "       [ 5.27751435e-01,  2.72048103e+00,  2.77228014e+00,\n",
              "        -1.26519165e+00, -1.51403780e+00, -4.49673351e-01],\n",
              "       [ 5.50802204e-01,  1.98773672e+00,  2.03919477e+00,\n",
              "         4.99649131e-01, -2.46842854e-03,  1.43876371e-01]])"
            ]
          },
          "metadata": {
            "tags": []
          },
          "execution_count": 9
        }
      ]
    },
    {
      "cell_type": "code",
      "metadata": {
        "id": "n9zfqZf9g4jc"
      },
      "source": [
        "df = pd.DataFrame(scaled_df, columns=names)"
      ],
      "execution_count": 10,
      "outputs": []
    },
    {
      "cell_type": "code",
      "metadata": {
        "id": "YvYOg9e1hHnm",
        "colab": {
          "base_uri": "https://localhost:8080/",
          "height": 195
        },
        "outputId": "11d8ea73-2915-427b-aeb7-f9d30cd5d8f9"
      },
      "source": [
        "df.head()"
      ],
      "execution_count": 11,
      "outputs": [
        {
          "output_type": "execute_result",
          "data": {
            "text/html": [
              "<div>\n",
              "<style scoped>\n",
              "    .dataframe tbody tr th:only-of-type {\n",
              "        vertical-align: middle;\n",
              "    }\n",
              "\n",
              "    .dataframe tbody tr th {\n",
              "        vertical-align: top;\n",
              "    }\n",
              "\n",
              "    .dataframe thead th {\n",
              "        text-align: right;\n",
              "    }\n",
              "</style>\n",
              "<table border=\"1\" class=\"dataframe\">\n",
              "  <thead>\n",
              "    <tr style=\"text-align: right;\">\n",
              "      <th></th>\n",
              "      <th>TMF</th>\n",
              "      <th>TKM_percent</th>\n",
              "      <th>TUKM_percent</th>\n",
              "      <th>Alcantine</th>\n",
              "      <th>Fatty_Accid</th>\n",
              "      <th>Total_Biogaz_Production</th>\n",
              "    </tr>\n",
              "  </thead>\n",
              "  <tbody>\n",
              "    <tr>\n",
              "      <th>0</th>\n",
              "      <td>-1.454615</td>\n",
              "      <td>-0.123416</td>\n",
              "      <td>1.137788</td>\n",
              "      <td>-0.284291</td>\n",
              "      <td>-0.622474</td>\n",
              "      <td>-1.233139</td>\n",
              "    </tr>\n",
              "    <tr>\n",
              "      <th>1</th>\n",
              "      <td>-1.731224</td>\n",
              "      <td>-0.202532</td>\n",
              "      <td>-0.094726</td>\n",
              "      <td>0.225673</td>\n",
              "      <td>0.149533</td>\n",
              "      <td>-1.324045</td>\n",
              "    </tr>\n",
              "    <tr>\n",
              "      <th>2</th>\n",
              "      <td>-1.546818</td>\n",
              "      <td>-0.219523</td>\n",
              "      <td>-0.029391</td>\n",
              "      <td>-0.406578</td>\n",
              "      <td>-0.009906</td>\n",
              "      <td>-1.291126</td>\n",
              "    </tr>\n",
              "    <tr>\n",
              "      <th>3</th>\n",
              "      <td>-1.639021</td>\n",
              "      <td>-0.226956</td>\n",
              "      <td>0.416883</td>\n",
              "      <td>-0.351939</td>\n",
              "      <td>-0.123713</td>\n",
              "      <td>-1.320500</td>\n",
              "    </tr>\n",
              "    <tr>\n",
              "      <th>4</th>\n",
              "      <td>-1.546818</td>\n",
              "      <td>0.105964</td>\n",
              "      <td>0.039267</td>\n",
              "      <td>-0.385763</td>\n",
              "      <td>-0.167977</td>\n",
              "      <td>-1.333921</td>\n",
              "    </tr>\n",
              "  </tbody>\n",
              "</table>\n",
              "</div>"
            ],
            "text/plain": [
              "        TMF  TKM_percent  ...  Fatty_Accid  Total_Biogaz_Production\n",
              "0 -1.454615    -0.123416  ...    -0.622474                -1.233139\n",
              "1 -1.731224    -0.202532  ...     0.149533                -1.324045\n",
              "2 -1.546818    -0.219523  ...    -0.009906                -1.291126\n",
              "3 -1.639021    -0.226956  ...    -0.123713                -1.320500\n",
              "4 -1.546818     0.105964  ...    -0.167977                -1.333921\n",
              "\n",
              "[5 rows x 6 columns]"
            ]
          },
          "metadata": {
            "tags": []
          },
          "execution_count": 11
        }
      ]
    },
    {
      "cell_type": "code",
      "metadata": {
        "id": "EJ6GuOzx392Z"
      },
      "source": [
        "#Function to test model performance changes with feature elimination MSE\n",
        "def Mean_Square_Error(model, x_test, y_test):\n",
        "\tprediction = model.predict(x_test)\n",
        "\tprint (\"Mean Square error of model:\", mean_squared_error(y_test, prediction))"
      ],
      "execution_count": 12,
      "outputs": []
    },
    {
      "cell_type": "code",
      "metadata": {
        "id": "Kb85KyH94MPs"
      },
      "source": [
        "#Setting a parameter for SVM model\n",
        "C = 1.0"
      ],
      "execution_count": 13,
      "outputs": []
    },
    {
      "cell_type": "code",
      "metadata": {
        "id": "aAPgI9s14V_2"
      },
      "source": [
        "# Identifying the target feature by splitting the dataset\n",
        "samples = df.filter(['TMF', 'TKM_percent', 'TUKM_percent', 'Alcantine', 'Fatty_Accid'])\n",
        "scores = df.filter(['Total_Biogaz_Production'])"
      ],
      "execution_count": 14,
      "outputs": []
    },
    {
      "cell_type": "code",
      "metadata": {
        "id": "uWyPnLi70847"
      },
      "source": [
        "# Defining the number of features to investigate\n",
        "nFeatures = len(df.columns) - 1"
      ],
      "execution_count": 15,
      "outputs": []
    },
    {
      "cell_type": "code",
      "metadata": {
        "colab": {
          "base_uri": "https://localhost:8080/",
          "height": 402
        },
        "id": "u0bklU5bDokf",
        "outputId": "0f4d9cc5-5881-4051-9497-3d08acfd81bd"
      },
      "source": [
        "samples"
      ],
      "execution_count": 16,
      "outputs": [
        {
          "output_type": "execute_result",
          "data": {
            "text/html": [
              "<div>\n",
              "<style scoped>\n",
              "    .dataframe tbody tr th:only-of-type {\n",
              "        vertical-align: middle;\n",
              "    }\n",
              "\n",
              "    .dataframe tbody tr th {\n",
              "        vertical-align: top;\n",
              "    }\n",
              "\n",
              "    .dataframe thead th {\n",
              "        text-align: right;\n",
              "    }\n",
              "</style>\n",
              "<table border=\"1\" class=\"dataframe\">\n",
              "  <thead>\n",
              "    <tr style=\"text-align: right;\">\n",
              "      <th></th>\n",
              "      <th>TMF</th>\n",
              "      <th>TKM_percent</th>\n",
              "      <th>TUKM_percent</th>\n",
              "      <th>Alcantine</th>\n",
              "      <th>Fatty_Accid</th>\n",
              "    </tr>\n",
              "  </thead>\n",
              "  <tbody>\n",
              "    <tr>\n",
              "      <th>0</th>\n",
              "      <td>-1.454615</td>\n",
              "      <td>-0.123416</td>\n",
              "      <td>1.137788</td>\n",
              "      <td>-0.284291</td>\n",
              "      <td>-0.622474</td>\n",
              "    </tr>\n",
              "    <tr>\n",
              "      <th>1</th>\n",
              "      <td>-1.731224</td>\n",
              "      <td>-0.202532</td>\n",
              "      <td>-0.094726</td>\n",
              "      <td>0.225673</td>\n",
              "      <td>0.149533</td>\n",
              "    </tr>\n",
              "    <tr>\n",
              "      <th>2</th>\n",
              "      <td>-1.546818</td>\n",
              "      <td>-0.219523</td>\n",
              "      <td>-0.029391</td>\n",
              "      <td>-0.406578</td>\n",
              "      <td>-0.009906</td>\n",
              "    </tr>\n",
              "    <tr>\n",
              "      <th>3</th>\n",
              "      <td>-1.639021</td>\n",
              "      <td>-0.226956</td>\n",
              "      <td>0.416883</td>\n",
              "      <td>-0.351939</td>\n",
              "      <td>-0.123713</td>\n",
              "    </tr>\n",
              "    <tr>\n",
              "      <th>4</th>\n",
              "      <td>-1.546818</td>\n",
              "      <td>0.105964</td>\n",
              "      <td>0.039267</td>\n",
              "      <td>-0.385763</td>\n",
              "      <td>-0.167977</td>\n",
              "    </tr>\n",
              "    <tr>\n",
              "      <th>...</th>\n",
              "      <td>...</td>\n",
              "      <td>...</td>\n",
              "      <td>...</td>\n",
              "      <td>...</td>\n",
              "      <td>...</td>\n",
              "    </tr>\n",
              "    <tr>\n",
              "      <th>389</th>\n",
              "      <td>0.089787</td>\n",
              "      <td>-0.090496</td>\n",
              "      <td>-0.041572</td>\n",
              "      <td>-1.529723</td>\n",
              "      <td>-0.996476</td>\n",
              "    </tr>\n",
              "    <tr>\n",
              "      <th>390</th>\n",
              "      <td>0.158939</td>\n",
              "      <td>-0.551913</td>\n",
              "      <td>-0.503349</td>\n",
              "      <td>-1.610797</td>\n",
              "      <td>-1.239012</td>\n",
              "    </tr>\n",
              "    <tr>\n",
              "      <th>391</th>\n",
              "      <td>-0.140721</td>\n",
              "      <td>1.219417</td>\n",
              "      <td>1.269566</td>\n",
              "      <td>-1.213154</td>\n",
              "      <td>-1.448099</td>\n",
              "    </tr>\n",
              "    <tr>\n",
              "      <th>392</th>\n",
              "      <td>0.527751</td>\n",
              "      <td>2.720481</td>\n",
              "      <td>2.772280</td>\n",
              "      <td>-1.265192</td>\n",
              "      <td>-1.514038</td>\n",
              "    </tr>\n",
              "    <tr>\n",
              "      <th>393</th>\n",
              "      <td>0.550802</td>\n",
              "      <td>1.987737</td>\n",
              "      <td>2.039195</td>\n",
              "      <td>0.499649</td>\n",
              "      <td>-0.002468</td>\n",
              "    </tr>\n",
              "  </tbody>\n",
              "</table>\n",
              "<p>394 rows × 5 columns</p>\n",
              "</div>"
            ],
            "text/plain": [
              "          TMF  TKM_percent  TUKM_percent  Alcantine  Fatty_Accid\n",
              "0   -1.454615    -0.123416      1.137788  -0.284291    -0.622474\n",
              "1   -1.731224    -0.202532     -0.094726   0.225673     0.149533\n",
              "2   -1.546818    -0.219523     -0.029391  -0.406578    -0.009906\n",
              "3   -1.639021    -0.226956      0.416883  -0.351939    -0.123713\n",
              "4   -1.546818     0.105964      0.039267  -0.385763    -0.167977\n",
              "..        ...          ...           ...        ...          ...\n",
              "389  0.089787    -0.090496     -0.041572  -1.529723    -0.996476\n",
              "390  0.158939    -0.551913     -0.503349  -1.610797    -1.239012\n",
              "391 -0.140721     1.219417      1.269566  -1.213154    -1.448099\n",
              "392  0.527751     2.720481      2.772280  -1.265192    -1.514038\n",
              "393  0.550802     1.987737      2.039195   0.499649    -0.002468\n",
              "\n",
              "[394 rows x 5 columns]"
            ]
          },
          "metadata": {
            "tags": []
          },
          "execution_count": 16
        }
      ]
    },
    {
      "cell_type": "code",
      "metadata": {
        "colab": {
          "base_uri": "https://localhost:8080/",
          "height": 402
        },
        "id": "M5JeWxcXDvud",
        "outputId": "74f1613b-c1a0-40c6-b020-5cce93a78dbe"
      },
      "source": [
        "scores"
      ],
      "execution_count": 17,
      "outputs": [
        {
          "output_type": "execute_result",
          "data": {
            "text/html": [
              "<div>\n",
              "<style scoped>\n",
              "    .dataframe tbody tr th:only-of-type {\n",
              "        vertical-align: middle;\n",
              "    }\n",
              "\n",
              "    .dataframe tbody tr th {\n",
              "        vertical-align: top;\n",
              "    }\n",
              "\n",
              "    .dataframe thead th {\n",
              "        text-align: right;\n",
              "    }\n",
              "</style>\n",
              "<table border=\"1\" class=\"dataframe\">\n",
              "  <thead>\n",
              "    <tr style=\"text-align: right;\">\n",
              "      <th></th>\n",
              "      <th>Total_Biogaz_Production</th>\n",
              "    </tr>\n",
              "  </thead>\n",
              "  <tbody>\n",
              "    <tr>\n",
              "      <th>0</th>\n",
              "      <td>-1.233139</td>\n",
              "    </tr>\n",
              "    <tr>\n",
              "      <th>1</th>\n",
              "      <td>-1.324045</td>\n",
              "    </tr>\n",
              "    <tr>\n",
              "      <th>2</th>\n",
              "      <td>-1.291126</td>\n",
              "    </tr>\n",
              "    <tr>\n",
              "      <th>3</th>\n",
              "      <td>-1.320500</td>\n",
              "    </tr>\n",
              "    <tr>\n",
              "      <th>4</th>\n",
              "      <td>-1.333921</td>\n",
              "    </tr>\n",
              "    <tr>\n",
              "      <th>...</th>\n",
              "      <td>...</td>\n",
              "    </tr>\n",
              "    <tr>\n",
              "      <th>389</th>\n",
              "      <td>-0.215444</td>\n",
              "    </tr>\n",
              "    <tr>\n",
              "      <th>390</th>\n",
              "      <td>-0.359780</td>\n",
              "    </tr>\n",
              "    <tr>\n",
              "      <th>391</th>\n",
              "      <td>-0.281788</td>\n",
              "    </tr>\n",
              "    <tr>\n",
              "      <th>392</th>\n",
              "      <td>-0.449673</td>\n",
              "    </tr>\n",
              "    <tr>\n",
              "      <th>393</th>\n",
              "      <td>0.143876</td>\n",
              "    </tr>\n",
              "  </tbody>\n",
              "</table>\n",
              "<p>394 rows × 1 columns</p>\n",
              "</div>"
            ],
            "text/plain": [
              "     Total_Biogaz_Production\n",
              "0                  -1.233139\n",
              "1                  -1.324045\n",
              "2                  -1.291126\n",
              "3                  -1.320500\n",
              "4                  -1.333921\n",
              "..                       ...\n",
              "389                -0.215444\n",
              "390                -0.359780\n",
              "391                -0.281788\n",
              "392                -0.449673\n",
              "393                 0.143876\n",
              "\n",
              "[394 rows x 1 columns]"
            ]
          },
          "metadata": {
            "tags": []
          },
          "execution_count": 17
        }
      ]
    },
    {
      "cell_type": "code",
      "metadata": {
        "id": "C6hyrCNn4aPd"
      },
      "source": [
        "rfeIndex = nFeatures"
      ],
      "execution_count": 18,
      "outputs": []
    },
    {
      "cell_type": "code",
      "metadata": {
        "colab": {
          "base_uri": "https://localhost:8080/"
        },
        "id": "mvwOnsY04col",
        "outputId": "30a236e6-f014-4669-b0a1-6eabdeefa48d"
      },
      "source": [
        "#Recursively eliminate features based on the lowest weight\n",
        "while True:\n",
        "\t#Split into training and testing\n",
        "\tx_train, x_test, y_train, y_test = train_test_split(samples, scores, test_size = 0.50, train_size=0.50)\n",
        "\t\n",
        "\t#Create SVM model using a linear kernel\n",
        "\tmodel = svm.SVR(kernel='linear')\n",
        "\tcoef = model.coef_\n",
        "\n",
        "\t#Print co-efficients of features\n",
        "\tfor i in range(0, nFeatures):\n",
        "\t\tprint(samples.columns[i-1],\":\", coef[0][i-1])\n",
        "\t\n",
        "\t#Find the minimum weight among features and eliminate the feature with the smallest weight\n",
        "\tmin = coef[0][0]\n",
        "\tindex = 0\n",
        "\tfor i in range(0, rfeIndex):\n",
        "\t\tif min > coef[0][i-1]:\n",
        "\t\t\tindex = index + 1\n",
        "\t\t\tmin = coef[0][i-1]\n",
        "\tif len(samples.columns) == 1:\n",
        "\t\tprint(\"After recursive elimination we have the\", samples.columns[index], \"feature with a score of:\", min)\n",
        "\t\tMean_Square_Error(model, x_test, y_test)\n",
        "\t\tbreak\n",
        "\telse:\n",
        "\t\tprint (\"Lowest feature weight is for\", samples.columns[index], \"with a value of:\", min)\n",
        "\t\tprint (\"Dropping feature\", samples.columns[index])  \n",
        "\n",
        "\t\t#Drop the feature in the 'samples' dataframe based on the lowest feature index\n",
        "\t\tsamples.drop(samples.columns[index], axis = 1, inplace = True)\n",
        "\t\tMean_Square_Error(model, x_test, y_test)\n",
        "\t\tprint (\"\\n\")\n",
        "\t\trfeIndex = rfeIndex - 1\n",
        "\t\tnFeatures = nFeatures - 1"
      ],
      "execution_count": 19,
      "outputs": [
        {
          "output_type": "stream",
          "text": [
            "Fatty_Accid : 0.07744107976161818\n",
            "TMF : 0.6710680668231053\n",
            "TKM_percent : 0.12254539993615038\n",
            "TUKM_percent : 0.03062924608462167\n",
            "Alcantine : -0.029367434110912694\n",
            "Lowest feature weight is for Alcantine with a value of: -0.029367434110912694\n",
            "Dropping feature Alcantine\n",
            "Mean Square error of model: 0.5023223193110067\n",
            "\n",
            "\n",
            "Fatty_Accid : 0.031709249215428836\n",
            "TMF : 0.6467676986384152\n",
            "TKM_percent : 0.02031222704452118\n",
            "TUKM_percent : 0.1219839492584329\n",
            "Lowest feature weight is for TUKM_percent with a value of: 0.02031222704452118\n",
            "Dropping feature TUKM_percent\n",
            "Mean Square error of model: 0.5128328631164885\n",
            "\n",
            "\n",
            "Fatty_Accid : 0.06914420935544324\n",
            "TMF : 0.6254379318136416\n",
            "TKM_percent : 0.11532973486578202\n",
            "Lowest feature weight is for TKM_percent with a value of: 0.06914420935544324\n",
            "Dropping feature TKM_percent\n",
            "Mean Square error of model: 0.6207426767464528\n",
            "\n",
            "\n",
            "Fatty_Accid : 0.14413648963999193\n",
            "TMF : 0.6537133034718534\n",
            "Lowest feature weight is for Fatty_Accid with a value of: 0.14413648963999193\n",
            "Dropping feature Fatty_Accid\n",
            "Mean Square error of model: 0.4958939677004433\n",
            "\n",
            "\n",
            "TMF : 0.6535566349876463\n",
            "After recursive elimination we have the TMF feature with a score of: 0.6535566349876463\n",
            "Mean Square error of model: 0.6198788860525475\n"
          ],
          "name": "stdout"
        },
        {
          "output_type": "stream",
          "text": [
            "/usr/local/lib/python3.7/dist-packages/sklearn/utils/validation.py:760: DataConversionWarning: A column-vector y was passed when a 1d array was expected. Please change the shape of y to (n_samples, ), for example using ravel().\n",
            "  y = column_or_1d(y, warn=True)\n",
            "/usr/local/lib/python3.7/dist-packages/sklearn/utils/validation.py:760: DataConversionWarning: A column-vector y was passed when a 1d array was expected. Please change the shape of y to (n_samples, ), for example using ravel().\n",
            "  y = column_or_1d(y, warn=True)\n",
            "/usr/local/lib/python3.7/dist-packages/sklearn/utils/validation.py:760: DataConversionWarning: A column-vector y was passed when a 1d array was expected. Please change the shape of y to (n_samples, ), for example using ravel().\n",
            "  y = column_or_1d(y, warn=True)\n",
            "/usr/local/lib/python3.7/dist-packages/sklearn/utils/validation.py:760: DataConversionWarning: A column-vector y was passed when a 1d array was expected. Please change the shape of y to (n_samples, ), for example using ravel().\n",
            "  y = column_or_1d(y, warn=True)\n",
            "/usr/local/lib/python3.7/dist-packages/sklearn/utils/validation.py:760: DataConversionWarning: A column-vector y was passed when a 1d array was expected. Please change the shape of y to (n_samples, ), for example using ravel().\n",
            "  y = column_or_1d(y, warn=True)\n"
          ],
          "name": "stderr"
        }
      ]
    }
  ]
}