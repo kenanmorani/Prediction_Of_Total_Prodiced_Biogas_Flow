{
  "nbformat": 4,
  "nbformat_minor": 0,
  "metadata": {
    "colab": {
      "name": "Recursive_SVM_Standard_scaled_Feature_selective_for_Biogas_Flow_Prediction_results2",
      "provenance": [],
      "collapsed_sections": [],
      "toc_visible": true,
      "include_colab_link": true
    },
    "kernelspec": {
      "display_name": "Python 3",
      "name": "python3"
    }
  },
  "cells": [
    {
      "cell_type": "markdown",
      "metadata": {
        "id": "view-in-github",
        "colab_type": "text"
      },
      "source": [
        "<a href=\"https://colab.research.google.com/github/kenanmorani/Prediction_Of_Total_Produced_Biogas_Flow/blob/main/Recursive_SVM_Standard_scaled_Feature_selective_for_Biogas_Flow_Prediction_results2.ipynb\" target=\"_parent\"><img src=\"https://colab.research.google.com/assets/colab-badge.svg\" alt=\"Open In Colab\"/></a>"
      ]
    },
    {
      "cell_type": "code",
      "metadata": {
        "id": "1JGC_z6279sH"
      },
      "source": [
        "import pandas as pd\n",
        "from sklearn import svm\n",
        "from sklearn.model_selection import train_test_split\n",
        "import warnings\n",
        "from sklearn import preprocessing"
      ],
      "execution_count": 1,
      "outputs": []
    },
    {
      "cell_type": "code",
      "metadata": {
        "id": "gk8RgAPW8GI9"
      },
      "source": [
        "# Mounting my google drive\n",
        "from google.colab import drive"
      ],
      "execution_count": 2,
      "outputs": []
    },
    {
      "cell_type": "code",
      "metadata": {
        "colab": {
          "base_uri": "https://localhost:8080/"
        },
        "id": "GYe8F0IW8HdJ",
        "outputId": "1699d763-d075-4b6c-adc9-fa9e9147715b"
      },
      "source": [
        "drive.mount('/content/gdrive', force_remount=True)"
      ],
      "execution_count": 4,
      "outputs": [
        {
          "output_type": "stream",
          "text": [
            "Mounted at /content/gdrive\n"
          ],
          "name": "stdout"
        }
      ]
    },
    {
      "cell_type": "code",
      "metadata": {
        "id": "OdKAhbpj4O8f"
      },
      "source": [
        "ss = pd.read_csv('/content/gdrive/MyDrive/Biogaz_Flow/Real_Plant_Data.csv')"
      ],
      "execution_count": 5,
      "outputs": []
    },
    {
      "cell_type": "code",
      "metadata": {
        "colab": {
          "base_uri": "https://localhost:8080/",
          "height": 204
        },
        "id": "qKPrc25OQgME",
        "outputId": "4501016e-b42f-44b7-b708-ee269f46340d"
      },
      "source": [
        "del ss['Date'] # Deleting the 'Date' column\n",
        "ss.head()"
      ],
      "execution_count": 6,
      "outputs": [
        {
          "output_type": "execute_result",
          "data": {
            "text/html": [
              "<div>\n",
              "<style scoped>\n",
              "    .dataframe tbody tr th:only-of-type {\n",
              "        vertical-align: middle;\n",
              "    }\n",
              "\n",
              "    .dataframe tbody tr th {\n",
              "        vertical-align: top;\n",
              "    }\n",
              "\n",
              "    .dataframe thead th {\n",
              "        text-align: right;\n",
              "    }\n",
              "</style>\n",
              "<table border=\"1\" class=\"dataframe\">\n",
              "  <thead>\n",
              "    <tr style=\"text-align: right;\">\n",
              "      <th></th>\n",
              "      <th>TMF</th>\n",
              "      <th>TKM_percent</th>\n",
              "      <th>TUKM_percent</th>\n",
              "      <th>Alcantine</th>\n",
              "      <th>Fatty_Accid</th>\n",
              "      <th>Total_Biogaz_Production</th>\n",
              "    </tr>\n",
              "  </thead>\n",
              "  <tbody>\n",
              "    <tr>\n",
              "      <th>0</th>\n",
              "      <td>240</td>\n",
              "      <td>46.26</td>\n",
              "      <td>33.15</td>\n",
              "      <td>787.0</td>\n",
              "      <td>244.36</td>\n",
              "      <td>2113</td>\n",
              "    </tr>\n",
              "    <tr>\n",
              "      <th>1</th>\n",
              "      <td>120</td>\n",
              "      <td>44.77</td>\n",
              "      <td>22.02</td>\n",
              "      <td>983.0</td>\n",
              "      <td>413.54</td>\n",
              "      <td>1754</td>\n",
              "    </tr>\n",
              "    <tr>\n",
              "      <th>2</th>\n",
              "      <td>200</td>\n",
              "      <td>44.45</td>\n",
              "      <td>22.61</td>\n",
              "      <td>740.0</td>\n",
              "      <td>378.60</td>\n",
              "      <td>1884</td>\n",
              "    </tr>\n",
              "    <tr>\n",
              "      <th>3</th>\n",
              "      <td>160</td>\n",
              "      <td>44.31</td>\n",
              "      <td>26.64</td>\n",
              "      <td>761.0</td>\n",
              "      <td>353.66</td>\n",
              "      <td>1768</td>\n",
              "    </tr>\n",
              "    <tr>\n",
              "      <th>4</th>\n",
              "      <td>200</td>\n",
              "      <td>50.58</td>\n",
              "      <td>23.23</td>\n",
              "      <td>748.0</td>\n",
              "      <td>343.96</td>\n",
              "      <td>1715</td>\n",
              "    </tr>\n",
              "  </tbody>\n",
              "</table>\n",
              "</div>"
            ],
            "text/plain": [
              "   TMF  TKM_percent  ...  Fatty_Accid  Total_Biogaz_Production\n",
              "0  240        46.26  ...       244.36                     2113\n",
              "1  120        44.77  ...       413.54                     1754\n",
              "2  200        44.45  ...       378.60                     1884\n",
              "3  160        44.31  ...       353.66                     1768\n",
              "4  200        50.58  ...       343.96                     1715\n",
              "\n",
              "[5 rows x 6 columns]"
            ]
          },
          "metadata": {
            "tags": []
          },
          "execution_count": 6
        }
      ]
    },
    {
      "cell_type": "code",
      "metadata": {
        "id": "yX-DzTb3QssR"
      },
      "source": [
        "d = preprocessing.minmax_scale(ss) # Applying normalization on the data"
      ],
      "execution_count": 7,
      "outputs": []
    },
    {
      "cell_type": "code",
      "metadata": {
        "id": "8zo4I21vfEbK",
        "colab": {
          "base_uri": "https://localhost:8080/"
        },
        "outputId": "a1cd5638-2c0a-4734-a876-7f0d1456e37f"
      },
      "source": [
        "d"
      ],
      "execution_count": 8,
      "outputs": [
        {
          "output_type": "execute_result",
          "data": {
            "text/plain": [
              "array([[0.07906977, 0.35562731, 0.49103836, 0.25709628, 0.13314154,\n",
              "        0.07240799],\n",
              "       [0.02325581, 0.34417282, 0.3261739 , 0.32112534, 0.22532065,\n",
              "        0.05513592],\n",
              "       [0.06046512, 0.34171279, 0.33491335, 0.24174237, 0.2062833 ,\n",
              "        0.06139043],\n",
              "       ...,\n",
              "       [0.34418605, 0.55004613, 0.50866538, 0.14047192, 0.03456035,\n",
              "        0.25316334],\n",
              "       [0.47906977, 0.76737392, 0.70967264, 0.13393834, 0.02668715,\n",
              "        0.22126534],\n",
              "       [0.48372093, 0.66128536, 0.61161309, 0.35552463, 0.20717142,\n",
              "        0.33403897]])"
            ]
          },
          "metadata": {
            "tags": []
          },
          "execution_count": 8
        }
      ]
    },
    {
      "cell_type": "code",
      "metadata": {
        "id": "NcEbv6HJQ3jh"
      },
      "source": [
        "names = ss.columns\n",
        "df = pd.DataFrame(d, columns=names)"
      ],
      "execution_count": 9,
      "outputs": []
    },
    {
      "cell_type": "code",
      "metadata": {
        "colab": {
          "base_uri": "https://localhost:8080/",
          "height": 419
        },
        "id": "DWfi6FY78mJ0",
        "outputId": "a96624da-ee9d-4d18-fab8-ba80c6a2a4df"
      },
      "source": [
        "df"
      ],
      "execution_count": 10,
      "outputs": [
        {
          "output_type": "execute_result",
          "data": {
            "text/html": [
              "<div>\n",
              "<style scoped>\n",
              "    .dataframe tbody tr th:only-of-type {\n",
              "        vertical-align: middle;\n",
              "    }\n",
              "\n",
              "    .dataframe tbody tr th {\n",
              "        vertical-align: top;\n",
              "    }\n",
              "\n",
              "    .dataframe thead th {\n",
              "        text-align: right;\n",
              "    }\n",
              "</style>\n",
              "<table border=\"1\" class=\"dataframe\">\n",
              "  <thead>\n",
              "    <tr style=\"text-align: right;\">\n",
              "      <th></th>\n",
              "      <th>TMF</th>\n",
              "      <th>TKM_percent</th>\n",
              "      <th>TUKM_percent</th>\n",
              "      <th>Alcantine</th>\n",
              "      <th>Fatty_Accid</th>\n",
              "      <th>Total_Biogaz_Production</th>\n",
              "    </tr>\n",
              "  </thead>\n",
              "  <tbody>\n",
              "    <tr>\n",
              "      <th>0</th>\n",
              "      <td>0.079070</td>\n",
              "      <td>0.355627</td>\n",
              "      <td>0.491038</td>\n",
              "      <td>0.257096</td>\n",
              "      <td>0.133142</td>\n",
              "      <td>0.072408</td>\n",
              "    </tr>\n",
              "    <tr>\n",
              "      <th>1</th>\n",
              "      <td>0.023256</td>\n",
              "      <td>0.344173</td>\n",
              "      <td>0.326174</td>\n",
              "      <td>0.321125</td>\n",
              "      <td>0.225321</td>\n",
              "      <td>0.055136</td>\n",
              "    </tr>\n",
              "    <tr>\n",
              "      <th>2</th>\n",
              "      <td>0.060465</td>\n",
              "      <td>0.341713</td>\n",
              "      <td>0.334913</td>\n",
              "      <td>0.241742</td>\n",
              "      <td>0.206283</td>\n",
              "      <td>0.061390</td>\n",
              "    </tr>\n",
              "    <tr>\n",
              "      <th>3</th>\n",
              "      <td>0.041860</td>\n",
              "      <td>0.340637</td>\n",
              "      <td>0.394608</td>\n",
              "      <td>0.248603</td>\n",
              "      <td>0.192695</td>\n",
              "      <td>0.055809</td>\n",
              "    </tr>\n",
              "    <tr>\n",
              "      <th>4</th>\n",
              "      <td>0.060465</td>\n",
              "      <td>0.388838</td>\n",
              "      <td>0.344097</td>\n",
              "      <td>0.244356</td>\n",
              "      <td>0.187409</td>\n",
              "      <td>0.053260</td>\n",
              "    </tr>\n",
              "    <tr>\n",
              "      <th>...</th>\n",
              "      <td>...</td>\n",
              "      <td>...</td>\n",
              "      <td>...</td>\n",
              "      <td>...</td>\n",
              "      <td>...</td>\n",
              "      <td>...</td>\n",
              "    </tr>\n",
              "    <tr>\n",
              "      <th>389</th>\n",
              "      <td>0.390698</td>\n",
              "      <td>0.360394</td>\n",
              "      <td>0.333284</td>\n",
              "      <td>0.100725</td>\n",
              "      <td>0.088485</td>\n",
              "      <td>0.265769</td>\n",
              "    </tr>\n",
              "    <tr>\n",
              "      <th>390</th>\n",
              "      <td>0.404651</td>\n",
              "      <td>0.293589</td>\n",
              "      <td>0.271515</td>\n",
              "      <td>0.090546</td>\n",
              "      <td>0.059526</td>\n",
              "      <td>0.238345</td>\n",
              "    </tr>\n",
              "    <tr>\n",
              "      <th>391</th>\n",
              "      <td>0.344186</td>\n",
              "      <td>0.550046</td>\n",
              "      <td>0.508665</td>\n",
              "      <td>0.140472</td>\n",
              "      <td>0.034560</td>\n",
              "      <td>0.253163</td>\n",
              "    </tr>\n",
              "    <tr>\n",
              "      <th>392</th>\n",
              "      <td>0.479070</td>\n",
              "      <td>0.767374</td>\n",
              "      <td>0.709673</td>\n",
              "      <td>0.133938</td>\n",
              "      <td>0.026687</td>\n",
              "      <td>0.221265</td>\n",
              "    </tr>\n",
              "    <tr>\n",
              "      <th>393</th>\n",
              "      <td>0.483721</td>\n",
              "      <td>0.661285</td>\n",
              "      <td>0.611613</td>\n",
              "      <td>0.355525</td>\n",
              "      <td>0.207171</td>\n",
              "      <td>0.334039</td>\n",
              "    </tr>\n",
              "  </tbody>\n",
              "</table>\n",
              "<p>394 rows × 6 columns</p>\n",
              "</div>"
            ],
            "text/plain": [
              "          TMF  TKM_percent  ...  Fatty_Accid  Total_Biogaz_Production\n",
              "0    0.079070     0.355627  ...     0.133142                 0.072408\n",
              "1    0.023256     0.344173  ...     0.225321                 0.055136\n",
              "2    0.060465     0.341713  ...     0.206283                 0.061390\n",
              "3    0.041860     0.340637  ...     0.192695                 0.055809\n",
              "4    0.060465     0.388838  ...     0.187409                 0.053260\n",
              "..        ...          ...  ...          ...                      ...\n",
              "389  0.390698     0.360394  ...     0.088485                 0.265769\n",
              "390  0.404651     0.293589  ...     0.059526                 0.238345\n",
              "391  0.344186     0.550046  ...     0.034560                 0.253163\n",
              "392  0.479070     0.767374  ...     0.026687                 0.221265\n",
              "393  0.483721     0.661285  ...     0.207171                 0.334039\n",
              "\n",
              "[394 rows x 6 columns]"
            ]
          },
          "metadata": {
            "tags": []
          },
          "execution_count": 10
        }
      ]
    },
    {
      "cell_type": "code",
      "metadata": {
        "id": "VzQ7b3g-nK7s"
      },
      "source": [
        "# Identifying the target feature by splitting the dataset\n",
        "samples = df.filter(['TMF', 'TKM_percent', 'TUKM_percent', 'Alcantine', 'Fatty_Accid'])\n",
        "scores = df.filter(['Total_Biogaz_Production'])"
      ],
      "execution_count": 11,
      "outputs": []
    },
    {
      "cell_type": "code",
      "metadata": {
        "colab": {
          "base_uri": "https://localhost:8080/",
          "height": 419
        },
        "id": "u0bklU5bDokf",
        "outputId": "843a516a-ccd4-453b-f9e7-eb5410703b5c"
      },
      "source": [
        "samples"
      ],
      "execution_count": 12,
      "outputs": [
        {
          "output_type": "execute_result",
          "data": {
            "text/html": [
              "<div>\n",
              "<style scoped>\n",
              "    .dataframe tbody tr th:only-of-type {\n",
              "        vertical-align: middle;\n",
              "    }\n",
              "\n",
              "    .dataframe tbody tr th {\n",
              "        vertical-align: top;\n",
              "    }\n",
              "\n",
              "    .dataframe thead th {\n",
              "        text-align: right;\n",
              "    }\n",
              "</style>\n",
              "<table border=\"1\" class=\"dataframe\">\n",
              "  <thead>\n",
              "    <tr style=\"text-align: right;\">\n",
              "      <th></th>\n",
              "      <th>TMF</th>\n",
              "      <th>TKM_percent</th>\n",
              "      <th>TUKM_percent</th>\n",
              "      <th>Alcantine</th>\n",
              "      <th>Fatty_Accid</th>\n",
              "    </tr>\n",
              "  </thead>\n",
              "  <tbody>\n",
              "    <tr>\n",
              "      <th>0</th>\n",
              "      <td>0.079070</td>\n",
              "      <td>0.355627</td>\n",
              "      <td>0.491038</td>\n",
              "      <td>0.257096</td>\n",
              "      <td>0.133142</td>\n",
              "    </tr>\n",
              "    <tr>\n",
              "      <th>1</th>\n",
              "      <td>0.023256</td>\n",
              "      <td>0.344173</td>\n",
              "      <td>0.326174</td>\n",
              "      <td>0.321125</td>\n",
              "      <td>0.225321</td>\n",
              "    </tr>\n",
              "    <tr>\n",
              "      <th>2</th>\n",
              "      <td>0.060465</td>\n",
              "      <td>0.341713</td>\n",
              "      <td>0.334913</td>\n",
              "      <td>0.241742</td>\n",
              "      <td>0.206283</td>\n",
              "    </tr>\n",
              "    <tr>\n",
              "      <th>3</th>\n",
              "      <td>0.041860</td>\n",
              "      <td>0.340637</td>\n",
              "      <td>0.394608</td>\n",
              "      <td>0.248603</td>\n",
              "      <td>0.192695</td>\n",
              "    </tr>\n",
              "    <tr>\n",
              "      <th>4</th>\n",
              "      <td>0.060465</td>\n",
              "      <td>0.388838</td>\n",
              "      <td>0.344097</td>\n",
              "      <td>0.244356</td>\n",
              "      <td>0.187409</td>\n",
              "    </tr>\n",
              "    <tr>\n",
              "      <th>...</th>\n",
              "      <td>...</td>\n",
              "      <td>...</td>\n",
              "      <td>...</td>\n",
              "      <td>...</td>\n",
              "      <td>...</td>\n",
              "    </tr>\n",
              "    <tr>\n",
              "      <th>389</th>\n",
              "      <td>0.390698</td>\n",
              "      <td>0.360394</td>\n",
              "      <td>0.333284</td>\n",
              "      <td>0.100725</td>\n",
              "      <td>0.088485</td>\n",
              "    </tr>\n",
              "    <tr>\n",
              "      <th>390</th>\n",
              "      <td>0.404651</td>\n",
              "      <td>0.293589</td>\n",
              "      <td>0.271515</td>\n",
              "      <td>0.090546</td>\n",
              "      <td>0.059526</td>\n",
              "    </tr>\n",
              "    <tr>\n",
              "      <th>391</th>\n",
              "      <td>0.344186</td>\n",
              "      <td>0.550046</td>\n",
              "      <td>0.508665</td>\n",
              "      <td>0.140472</td>\n",
              "      <td>0.034560</td>\n",
              "    </tr>\n",
              "    <tr>\n",
              "      <th>392</th>\n",
              "      <td>0.479070</td>\n",
              "      <td>0.767374</td>\n",
              "      <td>0.709673</td>\n",
              "      <td>0.133938</td>\n",
              "      <td>0.026687</td>\n",
              "    </tr>\n",
              "    <tr>\n",
              "      <th>393</th>\n",
              "      <td>0.483721</td>\n",
              "      <td>0.661285</td>\n",
              "      <td>0.611613</td>\n",
              "      <td>0.355525</td>\n",
              "      <td>0.207171</td>\n",
              "    </tr>\n",
              "  </tbody>\n",
              "</table>\n",
              "<p>394 rows × 5 columns</p>\n",
              "</div>"
            ],
            "text/plain": [
              "          TMF  TKM_percent  TUKM_percent  Alcantine  Fatty_Accid\n",
              "0    0.079070     0.355627      0.491038   0.257096     0.133142\n",
              "1    0.023256     0.344173      0.326174   0.321125     0.225321\n",
              "2    0.060465     0.341713      0.334913   0.241742     0.206283\n",
              "3    0.041860     0.340637      0.394608   0.248603     0.192695\n",
              "4    0.060465     0.388838      0.344097   0.244356     0.187409\n",
              "..        ...          ...           ...        ...          ...\n",
              "389  0.390698     0.360394      0.333284   0.100725     0.088485\n",
              "390  0.404651     0.293589      0.271515   0.090546     0.059526\n",
              "391  0.344186     0.550046      0.508665   0.140472     0.034560\n",
              "392  0.479070     0.767374      0.709673   0.133938     0.026687\n",
              "393  0.483721     0.661285      0.611613   0.355525     0.207171\n",
              "\n",
              "[394 rows x 5 columns]"
            ]
          },
          "metadata": {
            "tags": []
          },
          "execution_count": 12
        }
      ]
    },
    {
      "cell_type": "code",
      "metadata": {
        "colab": {
          "base_uri": "https://localhost:8080/",
          "height": 419
        },
        "id": "M5JeWxcXDvud",
        "outputId": "1ff08646-4f88-4870-8fb9-f6378c85b0f7"
      },
      "source": [
        "scores"
      ],
      "execution_count": 13,
      "outputs": [
        {
          "output_type": "execute_result",
          "data": {
            "text/html": [
              "<div>\n",
              "<style scoped>\n",
              "    .dataframe tbody tr th:only-of-type {\n",
              "        vertical-align: middle;\n",
              "    }\n",
              "\n",
              "    .dataframe tbody tr th {\n",
              "        vertical-align: top;\n",
              "    }\n",
              "\n",
              "    .dataframe thead th {\n",
              "        text-align: right;\n",
              "    }\n",
              "</style>\n",
              "<table border=\"1\" class=\"dataframe\">\n",
              "  <thead>\n",
              "    <tr style=\"text-align: right;\">\n",
              "      <th></th>\n",
              "      <th>Total_Biogaz_Production</th>\n",
              "    </tr>\n",
              "  </thead>\n",
              "  <tbody>\n",
              "    <tr>\n",
              "      <th>0</th>\n",
              "      <td>0.072408</td>\n",
              "    </tr>\n",
              "    <tr>\n",
              "      <th>1</th>\n",
              "      <td>0.055136</td>\n",
              "    </tr>\n",
              "    <tr>\n",
              "      <th>2</th>\n",
              "      <td>0.061390</td>\n",
              "    </tr>\n",
              "    <tr>\n",
              "      <th>3</th>\n",
              "      <td>0.055809</td>\n",
              "    </tr>\n",
              "    <tr>\n",
              "      <th>4</th>\n",
              "      <td>0.053260</td>\n",
              "    </tr>\n",
              "    <tr>\n",
              "      <th>...</th>\n",
              "      <td>...</td>\n",
              "    </tr>\n",
              "    <tr>\n",
              "      <th>389</th>\n",
              "      <td>0.265769</td>\n",
              "    </tr>\n",
              "    <tr>\n",
              "      <th>390</th>\n",
              "      <td>0.238345</td>\n",
              "    </tr>\n",
              "    <tr>\n",
              "      <th>391</th>\n",
              "      <td>0.253163</td>\n",
              "    </tr>\n",
              "    <tr>\n",
              "      <th>392</th>\n",
              "      <td>0.221265</td>\n",
              "    </tr>\n",
              "    <tr>\n",
              "      <th>393</th>\n",
              "      <td>0.334039</td>\n",
              "    </tr>\n",
              "  </tbody>\n",
              "</table>\n",
              "<p>394 rows × 1 columns</p>\n",
              "</div>"
            ],
            "text/plain": [
              "     Total_Biogaz_Production\n",
              "0                   0.072408\n",
              "1                   0.055136\n",
              "2                   0.061390\n",
              "3                   0.055809\n",
              "4                   0.053260\n",
              "..                       ...\n",
              "389                 0.265769\n",
              "390                 0.238345\n",
              "391                 0.253163\n",
              "392                 0.221265\n",
              "393                 0.334039\n",
              "\n",
              "[394 rows x 1 columns]"
            ]
          },
          "metadata": {
            "tags": []
          },
          "execution_count": 13
        }
      ]
    },
    {
      "cell_type": "markdown",
      "metadata": {
        "id": "o4ECvVJOE5jL"
      },
      "source": [
        "# PBIAS"
      ]
    },
    {
      "cell_type": "code",
      "metadata": {
        "id": "1WwxpOfAnQ9f",
        "colab": {
          "base_uri": "https://localhost:8080/"
        },
        "outputId": "3b8c838f-cfc7-4639-89b8-23549dffc83d"
      },
      "source": [
        "!pip install spotpy"
      ],
      "execution_count": 15,
      "outputs": [
        {
          "output_type": "stream",
          "text": [
            "Collecting spotpy\n",
            "\u001b[?25l  Downloading https://files.pythonhosted.org/packages/1c/07/fee2a157aaf45ecfc91701b754d7e7eabe89cea7526ff8841611b11c22f9/spotpy-1.5.14-py3-none-any.whl (186kB)\n",
            "\r\u001b[K     |█▊                              | 10kB 16.4MB/s eta 0:00:01\r\u001b[K     |███▌                            | 20kB 22.2MB/s eta 0:00:01\r\u001b[K     |█████▎                          | 30kB 10.9MB/s eta 0:00:01\r\u001b[K     |███████                         | 40kB 8.8MB/s eta 0:00:01\r\u001b[K     |████████▊                       | 51kB 5.4MB/s eta 0:00:01\r\u001b[K     |██████████▌                     | 61kB 5.1MB/s eta 0:00:01\r\u001b[K     |████████████▎                   | 71kB 5.6MB/s eta 0:00:01\r\u001b[K     |██████████████                  | 81kB 6.2MB/s eta 0:00:01\r\u001b[K     |███████████████▊                | 92kB 6.1MB/s eta 0:00:01\r\u001b[K     |█████████████████▌              | 102kB 5.1MB/s eta 0:00:01\r\u001b[K     |███████████████████▎            | 112kB 5.1MB/s eta 0:00:01\r\u001b[K     |█████████████████████           | 122kB 5.1MB/s eta 0:00:01\r\u001b[K     |██████████████████████▉         | 133kB 5.1MB/s eta 0:00:01\r\u001b[K     |████████████████████████▌       | 143kB 5.1MB/s eta 0:00:01\r\u001b[K     |██████████████████████████▎     | 153kB 5.1MB/s eta 0:00:01\r\u001b[K     |████████████████████████████    | 163kB 5.1MB/s eta 0:00:01\r\u001b[K     |█████████████████████████████▉  | 174kB 5.1MB/s eta 0:00:01\r\u001b[K     |███████████████████████████████▌| 184kB 5.1MB/s eta 0:00:01\r\u001b[K     |████████████████████████████████| 194kB 5.1MB/s \n",
            "\u001b[?25hRequirement already satisfied: scipy in /usr/local/lib/python3.7/dist-packages (from spotpy) (1.4.1)\n",
            "Requirement already satisfied: numpy in /usr/local/lib/python3.7/dist-packages (from spotpy) (1.19.5)\n",
            "Installing collected packages: spotpy\n",
            "Successfully installed spotpy-1.5.14\n"
          ],
          "name": "stdout"
        }
      ]
    },
    {
      "cell_type": "code",
      "metadata": {
        "id": "qBqva7H74NtM"
      },
      "source": [
        "import spotpy\n",
        "import numpy as np\n",
        "def pbias(model, x_test, y_test):\n",
        "    x1 = x_test\n",
        "    x2=y_test\n",
        "    prediction = model.predict(x1)\n",
        "    if len(y_test) == len(prediction):\n",
        "        sim = np.array(prediction)\n",
        "        obs = np.array(x2)\n",
        "        print('Pbias is', 100 * (float(np.nansum(sim - obs)) / float(np.nansum(obs))))\n",
        "\n",
        "    else:\n",
        "        logging.warning(\"evaluation and simulation lists does not have the same length.\")\n",
        "        return np.nan"
      ],
      "execution_count": 46,
      "outputs": []
    },
    {
      "cell_type": "code",
      "metadata": {
        "id": "aAPgI9s14V_2"
      },
      "source": [
        "# Identifying the target feature by splitting the dataset\n",
        "samples = df.filter(['TMF', 'TKM_percent', 'TUKM_percent', 'Alcantine', 'Fatty_Accid'])\n",
        "scores = df.filter(['Total_Biogaz_Production'])\n",
        "\n",
        "#Setting a parameter for SVM model\n",
        "C = 0.9\n",
        "\n",
        "# Defining the number of features to investigate\n",
        "nFeatures = len(df.columns) - 1\n",
        "\n",
        "rfeIndex = nFeatures"
      ],
      "execution_count": 47,
      "outputs": []
    },
    {
      "cell_type": "code",
      "metadata": {
        "id": "W5JYR4hTrBZh",
        "colab": {
          "base_uri": "https://localhost:8080/"
        },
        "outputId": "980467fe-63a1-4461-da7d-0727be37ccd0"
      },
      "source": [
        "#Recursively eliminate features based on the lowest weight\n",
        "while True:\n",
        "\t#Split into training and testing\n",
        "\tx_train, x_test, y_train, y_test = train_test_split(samples, scores, test_size = 0.50, train_size=0.5)\n",
        "\t\n",
        "\t#Create SVM model using a linear kernel\n",
        "\tmodel = svm.SVR(kernel='linear', C=C).fit(x_train, y_train)\n",
        "\tcoef = model.coef_\n",
        "\n",
        "\t#Print co-efficients of features\n",
        "\tfor i in range(0, nFeatures):\n",
        "\t\tprint(samples.columns[i-1],\":\", coef[0][i-1])\n",
        "\t\n",
        "\t#Find the minimum weight among features and eliminate the feature with the smallest weight\n",
        "\tmin = coef[0][0]\n",
        "\tindex = 0\n",
        "\tfor i in range(0, rfeIndex):\n",
        "\t\tif min > coef[0][i-1]:\n",
        "\t\t\tindex = index + 1\n",
        "\t\t\tmin = coef[0][i-1]\n",
        "\tif len(samples.columns) == 1:\n",
        "\t\tprint(\"After recursive elimination we have the\", samples.columns[index], \"feature with a score of:\", min)\n",
        "\t\tpbias(model, x_test, y_test)\n",
        "\t\tbreak\n",
        "\telse:\n",
        "\t\tprint (\"Lowest feature weight is for\", samples.columns[index], \"with a value of:\", min)\n",
        "\t\tprint (\"Dropping feature\", samples.columns[index])  \n",
        "\n",
        "\t\t#Drop the feature in the 'samples' dataframe based on the lowest feature index\n",
        "\t\tsamples.drop(samples.columns[index], axis = 1, inplace = True)\n",
        "\t\tpbias(model, x_test, y_test)\n",
        "\t\tprint (\"\\n\")\n",
        "\t\trfeIndex = rfeIndex - 1\n",
        "\t\tnFeatures = nFeatures - 1"
      ],
      "execution_count": 48,
      "outputs": [
        {
          "output_type": "stream",
          "text": [
            "Fatty_Accid : 0.27556802934998104\n",
            "TMF : 0.5274086103585467\n",
            "TKM_percent : 0.04882962678661601\n",
            "TUKM_percent : 0.14106851785385222\n",
            "Alcantine : -0.22122028339644778\n",
            "Lowest feature weight is for Alcantine with a value of: -0.22122028339644778\n",
            "Dropping feature Alcantine\n",
            "Pbias is -371.3567564207376\n",
            "\n",
            "\n",
            "Fatty_Accid : 0.16028096371011158\n",
            "TMF : 0.5774808554182894\n",
            "TKM_percent : 0.07035903151465694\n",
            "TUKM_percent : 0.04070174463564086\n",
            "Lowest feature weight is for Fatty_Accid with a value of: 0.04070174463564086\n",
            "Dropping feature Fatty_Accid\n",
            "Pbias is 669.5196945742989\n",
            "\n",
            "\n",
            "TUKM_percent : 0.14619899728215854\n",
            "TMF : 0.49759913091056157\n",
            "TKM_percent : -0.04013905694060585\n",
            "Lowest feature weight is for TUKM_percent with a value of: -0.04013905694060585\n",
            "Dropping feature TUKM_percent\n",
            "Pbias is -306.5912879609423\n",
            "\n",
            "\n",
            "TKM_percent : 0.13782986829033628\n",
            "TMF : 0.5706439754819995\n",
            "Lowest feature weight is for TKM_percent with a value of: 0.13782986829033628\n",
            "Dropping feature TKM_percent\n",
            "Pbias is 1512.6268874790608\n",
            "\n",
            "\n",
            "TMF : 0.5240496068316135\n",
            "After recursive elimination we have the TMF feature with a score of: 0.5240496068316135\n",
            "Pbias is -480.44997649053596\n"
          ],
          "name": "stdout"
        },
        {
          "output_type": "stream",
          "text": [
            "/usr/local/lib/python3.7/dist-packages/sklearn/utils/validation.py:760: DataConversionWarning: A column-vector y was passed when a 1d array was expected. Please change the shape of y to (n_samples, ), for example using ravel().\n",
            "  y = column_or_1d(y, warn=True)\n",
            "/usr/local/lib/python3.7/dist-packages/sklearn/utils/validation.py:760: DataConversionWarning: A column-vector y was passed when a 1d array was expected. Please change the shape of y to (n_samples, ), for example using ravel().\n",
            "  y = column_or_1d(y, warn=True)\n",
            "/usr/local/lib/python3.7/dist-packages/sklearn/utils/validation.py:760: DataConversionWarning: A column-vector y was passed when a 1d array was expected. Please change the shape of y to (n_samples, ), for example using ravel().\n",
            "  y = column_or_1d(y, warn=True)\n",
            "/usr/local/lib/python3.7/dist-packages/sklearn/utils/validation.py:760: DataConversionWarning: A column-vector y was passed when a 1d array was expected. Please change the shape of y to (n_samples, ), for example using ravel().\n",
            "  y = column_or_1d(y, warn=True)\n",
            "/usr/local/lib/python3.7/dist-packages/sklearn/utils/validation.py:760: DataConversionWarning: A column-vector y was passed when a 1d array was expected. Please change the shape of y to (n_samples, ), for example using ravel().\n",
            "  y = column_or_1d(y, warn=True)\n"
          ],
          "name": "stderr"
        }
      ]
    },
    {
      "cell_type": "markdown",
      "metadata": {
        "id": "Tmcc3uSL28ug"
      },
      "source": [
        "# Average Bias Deviation"
      ]
    },
    {
      "cell_type": "code",
      "metadata": {
        "id": "dLuWbBsCJ5Jv"
      },
      "source": [
        "# Mean Bias Deviation\n",
        "def mbd(model, x_test, y_test):\n",
        "    x1 = x_test\n",
        "    x2=y_test\n",
        "    prediction = model.predict(x1)\n",
        "    predict = np.array(prediction)\n",
        "    actual = np.array(x2)\n",
        "\n",
        "    difference = predict - actual\n",
        "    numerator = np.sum(difference) / len(predict)\n",
        "    denumerator = np.sum(actual) / len(predict)\n",
        "    score = float(numerator) / denumerator * 100\n",
        "\n",
        "    print('Mean Bias Deviation:', score)"
      ],
      "execution_count": 43,
      "outputs": []
    },
    {
      "cell_type": "code",
      "metadata": {
        "id": "z7N6jkukKlrq"
      },
      "source": [
        "# Identifying the target feature by splitting the dataset\n",
        "samples = df.filter(['TMF', 'TKM_percent', 'TUKM_percent', 'Alcantine', 'Fatty_Accid'])\n",
        "scores = df.filter(['Total_Biogaz_Production'])\n",
        "\n",
        "#Setting a parameter for SVM model\n",
        "C = 0.9\n",
        "\n",
        "# Defining the number of features to investigate\n",
        "nFeatures = len(df.columns) - 1\n",
        "\n",
        "rfeIndex = nFeatures"
      ],
      "execution_count": 44,
      "outputs": []
    },
    {
      "cell_type": "code",
      "metadata": {
        "id": "yBDnAxEVKmcZ",
        "colab": {
          "base_uri": "https://localhost:8080/"
        },
        "outputId": "e6aa33d0-e9b0-4b21-ddf8-56415f9ec307"
      },
      "source": [
        "#Recursively eliminate features based on the lowest weight\n",
        "while True:\n",
        "\t#Split into training and testing\n",
        "\tx_train, x_test, y_train, y_test = train_test_split(samples, scores, test_size = 0.50, train_size=0.5)\n",
        "\t\n",
        "\t#Create SVM model using a linear kernel\n",
        "\tmodel = svm.SVR(kernel='linear', C=C).fit(x_train, y_train)\n",
        "\tcoef = model.coef_\n",
        "\n",
        "\t#Print co-efficients of features\n",
        "\tfor i in range(0, nFeatures):\n",
        "\t\tprint(samples.columns[i-1],\":\", coef[0][i-1])\n",
        "\t\n",
        "\t#Find the minimum weight among features and eliminate the feature with the smallest weight\n",
        "\tmin = coef[0][0]\n",
        "\tindex = 0\n",
        "\tfor i in range(0, rfeIndex):\n",
        "\t\tif min > coef[0][i-1]:\n",
        "\t\t\tindex = index + 1\n",
        "\t\t\tmin = coef[0][i-1]\n",
        "\tif len(samples.columns) == 1:\n",
        "\t\tprint(\"After recursive elimination we have the\", samples.columns[index], \"feature with a score of:\", min)\n",
        "\t\tmbd(model, x_test, y_test)\n",
        "\t\tbreak\n",
        "\telse:\n",
        "\t\tprint (\"Lowest feature weight is for\", samples.columns[index], \"with a value of:\", min)\n",
        "\t\tprint (\"Dropping feature\", samples.columns[index])  \n",
        "\n",
        "\t\t#Drop the feature in the 'samples' dataframe based on the lowest feature index\n",
        "\t\tsamples.drop(samples.columns[index], axis = 1, inplace = True)\n",
        "\t\tmbd(model, x_test, y_test)\n",
        "\t\tprint (\"\\n\")\n",
        "\t\trfeIndex = rfeIndex - 1\n",
        "\t\tnFeatures = nFeatures - 1"
      ],
      "execution_count": 45,
      "outputs": [
        {
          "output_type": "stream",
          "text": [
            "Fatty_Accid : 0.1961776611857231\n",
            "TMF : 0.5703201789724173\n",
            "TKM_percent : -0.028919249821784565\n",
            "TUKM_percent : 0.1700877526095526\n",
            "Alcantine : -0.10920043315663767\n",
            "Lowest feature weight is for Alcantine with a value of: -0.10920043315663767\n",
            "Dropping feature Alcantine\n",
            "Mean Bias Deviation: -1097.1995402860323\n",
            "\n",
            "\n",
            "Fatty_Accid : 0.1581088403375036\n",
            "TMF : 0.5764777507063056\n",
            "TKM_percent : 0.02209761283348677\n",
            "TUKM_percent : 0.1535504442307637\n",
            "Lowest feature weight is for TUKM_percent with a value of: 0.02209761283348677\n",
            "Dropping feature TUKM_percent\n",
            "Mean Bias Deviation: 67.97340989449101\n",
            "\n",
            "\n",
            "Fatty_Accid : 0.15684504083045853\n",
            "TMF : 0.5574346576382773\n",
            "TKM_percent : 0.04141193433530694\n",
            "Lowest feature weight is for Fatty_Accid with a value of: 0.04141193433530694\n",
            "Dropping feature Fatty_Accid\n",
            "Mean Bias Deviation: -945.5198911528068\n",
            "\n",
            "\n",
            "TKM_percent : 0.13777529991472962\n",
            "TMF : 0.570255879178561\n",
            "Lowest feature weight is for TKM_percent with a value of: 0.13777529991472962\n",
            "Dropping feature TKM_percent\n",
            "Mean Bias Deviation: -86.55800258261795\n",
            "\n",
            "\n",
            "TMF : 0.5176931237479587\n",
            "After recursive elimination we have the TMF feature with a score of: 0.5176931237479587\n",
            "Mean Bias Deviation: -532.6070481289806\n"
          ],
          "name": "stdout"
        },
        {
          "output_type": "stream",
          "text": [
            "/usr/local/lib/python3.7/dist-packages/sklearn/utils/validation.py:760: DataConversionWarning: A column-vector y was passed when a 1d array was expected. Please change the shape of y to (n_samples, ), for example using ravel().\n",
            "  y = column_or_1d(y, warn=True)\n",
            "/usr/local/lib/python3.7/dist-packages/sklearn/utils/validation.py:760: DataConversionWarning: A column-vector y was passed when a 1d array was expected. Please change the shape of y to (n_samples, ), for example using ravel().\n",
            "  y = column_or_1d(y, warn=True)\n",
            "/usr/local/lib/python3.7/dist-packages/sklearn/utils/validation.py:760: DataConversionWarning: A column-vector y was passed when a 1d array was expected. Please change the shape of y to (n_samples, ), for example using ravel().\n",
            "  y = column_or_1d(y, warn=True)\n",
            "/usr/local/lib/python3.7/dist-packages/sklearn/utils/validation.py:760: DataConversionWarning: A column-vector y was passed when a 1d array was expected. Please change the shape of y to (n_samples, ), for example using ravel().\n",
            "  y = column_or_1d(y, warn=True)\n",
            "/usr/local/lib/python3.7/dist-packages/sklearn/utils/validation.py:760: DataConversionWarning: A column-vector y was passed when a 1d array was expected. Please change the shape of y to (n_samples, ), for example using ravel().\n",
            "  y = column_or_1d(y, warn=True)\n"
          ],
          "name": "stderr"
        }
      ]
    },
    {
      "cell_type": "markdown",
      "metadata": {
        "id": "XLxBZrqNMHoD"
      },
      "source": [
        "# Index of Agreement"
      ]
    },
    {
      "cell_type": "code",
      "metadata": {
        "id": "gSocDA1_K9A6"
      },
      "source": [
        "def index_agreement(model, x_test, y_test):\n",
        "    prediction = model.predict(x_test)\n",
        "    s = np.ravel(prediction)\n",
        "    o = np.ravel(y_test)\n",
        "    ia = 1 -(np.sum((o-s)**2))/(np.sum(\n",
        "    \t\t\t(np.abs(s-np.mean(o))+np.abs(o-np.mean(o)))**2))\n",
        "    print('Index of Agreement:', ia)"
      ],
      "execution_count": 22,
      "outputs": []
    },
    {
      "cell_type": "code",
      "metadata": {
        "id": "f_yUbENXMPDP"
      },
      "source": [
        "# Identifying the target featue by splitting the dataset\n",
        "samples = df.filter(['TMF', 'TKM_percent', 'TUKM_percent', 'Alcantine', 'Fatty_Accid'])\n",
        "scores = df.filter(['Total_Biogaz_Production'])\n",
        "\n",
        "#Setting a parameter for SVM model\n",
        "C = 0.9\n",
        "\n",
        "# Defining the number of features to investigate\n",
        "nFeatures = len(df.columns) - 1\n",
        "\n",
        "rfeIndex = nFeatures"
      ],
      "execution_count": 39,
      "outputs": []
    },
    {
      "cell_type": "code",
      "metadata": {
        "id": "DuikfYi_MPlZ",
        "colab": {
          "base_uri": "https://localhost:8080/"
        },
        "outputId": "95e7ea3e-5b6d-4fd8-f3e5-22054e43a2c9"
      },
      "source": [
        "#Recursively eliminate features based on the lowest weight\n",
        "while True:\n",
        "\t#Split into training and testing\n",
        "\tx_train, x_test, y_train, y_test = train_test_split(samples, scores, test_size = 0.50, train_size=0.5)\n",
        "\t\n",
        "\t#Create SVM model using a linear kernel\n",
        "\tmodel = svm.SVR(kernel='linear', C=C).fit(x_train, y_train)\n",
        "\tcoef = model.coef_\n",
        "\n",
        "\t#Print co-efficients of features\n",
        "\tfor i in range(0, nFeatures):\n",
        "\t\tprint(samples.columns[i-1],\":\", coef[0][i-1])\n",
        "\t\n",
        "\t#Find the minimum weight among features and eliminate the feature with the smallest weight\n",
        "\tmin = coef[0][0]\n",
        "\tindex = 0\n",
        "\tfor i in range(0, rfeIndex):\n",
        "\t\tif min > coef[0][i-1]:\n",
        "\t\t\tindex = index + 1\n",
        "\t\t\tmin = coef[0][i-1]\n",
        "\tif len(samples.columns) == 1:\n",
        "\t\tprint(\"After recursive elimination we have the\", samples.columns[index], \"feature with a score of:\", min)\n",
        "\t\tindex_agreement(model, x_test, y_test)\n",
        "\t\tbreak\n",
        "\telse:\n",
        "\t\tprint (\"Lowest feature weight is for\", samples.columns[index], \"with a value of:\", min)\n",
        "\t\tprint (\"Dropping feature\", samples.columns[index])  \n",
        "\n",
        "\t\t#Drop the feature in the 'samples' dataframe based on the lowest feature index\n",
        "\t\tsamples.drop(samples.columns[index], axis = 1, inplace = True)\n",
        "\t\tindex_agreement(model, x_test, y_test)\n",
        "\t\tprint (\"\\n\")\n",
        "\t\trfeIndex = rfeIndex - 1\n",
        "\t\tnFeatures = nFeatures - 1"
      ],
      "execution_count": 40,
      "outputs": [
        {
          "output_type": "stream",
          "text": [
            "Fatty_Accid : 0.21817034798865326\n",
            "TMF : 0.590994406414102\n",
            "TKM_percent : 0.0163374995963792\n",
            "TUKM_percent : 0.09399721785641979\n",
            "Alcantine : -0.04919754809390098\n",
            "Lowest feature weight is for Alcantine with a value of: -0.04919754809390098\n",
            "Dropping feature Alcantine\n",
            "Index of Agreement: 0.800253400980088\n",
            "\n",
            "\n",
            "Fatty_Accid : 0.16788618359634683\n",
            "TMF : 0.5785926273202916\n",
            "TKM_percent : -0.03503224333094851\n",
            "TUKM_percent : 0.13513878182443556\n",
            "Lowest feature weight is for TUKM_percent with a value of: -0.03503224333094851\n",
            "Dropping feature TUKM_percent\n",
            "Index of Agreement: 0.7846920076786874\n",
            "\n",
            "\n",
            "Fatty_Accid : 0.16430441915698127\n",
            "TMF : 0.5691135950211333\n",
            "TKM_percent : 0.12817738156133487\n",
            "Lowest feature weight is for Fatty_Accid with a value of: 0.12817738156133487\n",
            "Dropping feature Fatty_Accid\n",
            "Index of Agreement: 0.8151345731851215\n",
            "\n",
            "\n",
            "TKM_percent : 0.21283925090893327\n",
            "TMF : 0.5727591383046448\n",
            "Lowest feature weight is for TKM_percent with a value of: 0.21283925090893327\n",
            "Dropping feature TKM_percent\n",
            "Index of Agreement: 0.767056879591965\n",
            "\n",
            "\n",
            "TMF : 0.5993383442698815\n",
            "After recursive elimination we have the TMF feature with a score of: 0.5993383442698815\n",
            "Index of Agreement: 0.7703258461673691\n"
          ],
          "name": "stdout"
        },
        {
          "output_type": "stream",
          "text": [
            "/usr/local/lib/python3.7/dist-packages/sklearn/utils/validation.py:760: DataConversionWarning: A column-vector y was passed when a 1d array was expected. Please change the shape of y to (n_samples, ), for example using ravel().\n",
            "  y = column_or_1d(y, warn=True)\n",
            "/usr/local/lib/python3.7/dist-packages/sklearn/utils/validation.py:760: DataConversionWarning: A column-vector y was passed when a 1d array was expected. Please change the shape of y to (n_samples, ), for example using ravel().\n",
            "  y = column_or_1d(y, warn=True)\n",
            "/usr/local/lib/python3.7/dist-packages/sklearn/utils/validation.py:760: DataConversionWarning: A column-vector y was passed when a 1d array was expected. Please change the shape of y to (n_samples, ), for example using ravel().\n",
            "  y = column_or_1d(y, warn=True)\n",
            "/usr/local/lib/python3.7/dist-packages/sklearn/utils/validation.py:760: DataConversionWarning: A column-vector y was passed when a 1d array was expected. Please change the shape of y to (n_samples, ), for example using ravel().\n",
            "  y = column_or_1d(y, warn=True)\n",
            "/usr/local/lib/python3.7/dist-packages/sklearn/utils/validation.py:760: DataConversionWarning: A column-vector y was passed when a 1d array was expected. Please change the shape of y to (n_samples, ), for example using ravel().\n",
            "  y = column_or_1d(y, warn=True)\n"
          ],
          "name": "stderr"
        }
      ]
    }
  ]
}