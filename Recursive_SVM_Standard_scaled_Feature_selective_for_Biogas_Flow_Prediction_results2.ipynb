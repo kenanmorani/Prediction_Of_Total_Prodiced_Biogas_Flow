{
  "nbformat": 4,
  "nbformat_minor": 0,
  "metadata": {
    "colab": {
      "name": "Recursive_SVM_Standard_scaled_Feature_selective_for_Biogas_Flow_Prediction_results2",
      "provenance": [],
      "collapsed_sections": [],
      "toc_visible": true,
      "include_colab_link": true
    },
    "kernelspec": {
      "display_name": "Python 3",
      "name": "python3"
    }
  },
  "cells": [
    {
      "cell_type": "markdown",
      "metadata": {
        "id": "view-in-github",
        "colab_type": "text"
      },
      "source": [
        "<a href=\"https://colab.research.google.com/github/kenanmorani/Prediction_Of_Total_Produced_Biogas_Flow/blob/main/Recursive_SVM_Standard_scaled_Feature_selective_for_Biogas_Flow_Prediction_results2.ipynb\" target=\"_parent\"><img src=\"https://colab.research.google.com/assets/colab-badge.svg\" alt=\"Open In Colab\"/></a>"
      ]
    },
    {
      "cell_type": "code",
      "metadata": {
        "id": "1JGC_z6279sH"
      },
      "source": [
        "import pandas as pd\n",
        "from sklearn import svm\n",
        "from sklearn.model_selection import train_test_split\n",
        "import warnings\n",
        "from sklearn import preprocessing"
      ],
      "execution_count": 1,
      "outputs": []
    },
    {
      "cell_type": "code",
      "metadata": {
        "id": "gk8RgAPW8GI9"
      },
      "source": [
        "# Mounting my google drive\n",
        "from google.colab import drive"
      ],
      "execution_count": 2,
      "outputs": []
    },
    {
      "cell_type": "code",
      "metadata": {
        "colab": {
          "base_uri": "https://localhost:8080/"
        },
        "id": "GYe8F0IW8HdJ",
        "outputId": "4c1aa5a1-c196-435c-afa3-16f402d53f9f"
      },
      "source": [
        "drive.mount('/content/gdrive', force_remount=True)"
      ],
      "execution_count": 3,
      "outputs": [
        {
          "output_type": "stream",
          "text": [
            "Mounted at /content/gdrive\n"
          ],
          "name": "stdout"
        }
      ]
    },
    {
      "cell_type": "code",
      "metadata": {
        "id": "OdKAhbpj4O8f"
      },
      "source": [
        "ss = pd.read_csv('/content/gdrive/MyDrive/Biogaz_Flow/Real_Plant_Data.csv')"
      ],
      "execution_count": 4,
      "outputs": []
    },
    {
      "cell_type": "code",
      "metadata": {
        "colab": {
          "base_uri": "https://localhost:8080/",
          "height": 204
        },
        "id": "qKPrc25OQgME",
        "outputId": "218fca75-5bb2-458c-b557-e2ab36a9cb70"
      },
      "source": [
        "del ss['Date'] # Deleting the 'Date' column\n",
        "ss.head()"
      ],
      "execution_count": 5,
      "outputs": [
        {
          "output_type": "execute_result",
          "data": {
            "text/html": [
              "<div>\n",
              "<style scoped>\n",
              "    .dataframe tbody tr th:only-of-type {\n",
              "        vertical-align: middle;\n",
              "    }\n",
              "\n",
              "    .dataframe tbody tr th {\n",
              "        vertical-align: top;\n",
              "    }\n",
              "\n",
              "    .dataframe thead th {\n",
              "        text-align: right;\n",
              "    }\n",
              "</style>\n",
              "<table border=\"1\" class=\"dataframe\">\n",
              "  <thead>\n",
              "    <tr style=\"text-align: right;\">\n",
              "      <th></th>\n",
              "      <th>TMF</th>\n",
              "      <th>TKM_percent</th>\n",
              "      <th>TUKM_percent</th>\n",
              "      <th>Alcantine</th>\n",
              "      <th>Fatty_Accid</th>\n",
              "      <th>Total_Biogaz_Production</th>\n",
              "    </tr>\n",
              "  </thead>\n",
              "  <tbody>\n",
              "    <tr>\n",
              "      <th>0</th>\n",
              "      <td>240</td>\n",
              "      <td>46.26</td>\n",
              "      <td>33.15</td>\n",
              "      <td>787.0</td>\n",
              "      <td>244.36</td>\n",
              "      <td>2113</td>\n",
              "    </tr>\n",
              "    <tr>\n",
              "      <th>1</th>\n",
              "      <td>120</td>\n",
              "      <td>44.77</td>\n",
              "      <td>22.02</td>\n",
              "      <td>983.0</td>\n",
              "      <td>413.54</td>\n",
              "      <td>1754</td>\n",
              "    </tr>\n",
              "    <tr>\n",
              "      <th>2</th>\n",
              "      <td>200</td>\n",
              "      <td>44.45</td>\n",
              "      <td>22.61</td>\n",
              "      <td>740.0</td>\n",
              "      <td>378.60</td>\n",
              "      <td>1884</td>\n",
              "    </tr>\n",
              "    <tr>\n",
              "      <th>3</th>\n",
              "      <td>160</td>\n",
              "      <td>44.31</td>\n",
              "      <td>26.64</td>\n",
              "      <td>761.0</td>\n",
              "      <td>353.66</td>\n",
              "      <td>1768</td>\n",
              "    </tr>\n",
              "    <tr>\n",
              "      <th>4</th>\n",
              "      <td>200</td>\n",
              "      <td>50.58</td>\n",
              "      <td>23.23</td>\n",
              "      <td>748.0</td>\n",
              "      <td>343.96</td>\n",
              "      <td>1715</td>\n",
              "    </tr>\n",
              "  </tbody>\n",
              "</table>\n",
              "</div>"
            ],
            "text/plain": [
              "   TMF  TKM_percent  ...  Fatty_Accid  Total_Biogaz_Production\n",
              "0  240        46.26  ...       244.36                     2113\n",
              "1  120        44.77  ...       413.54                     1754\n",
              "2  200        44.45  ...       378.60                     1884\n",
              "3  160        44.31  ...       353.66                     1768\n",
              "4  200        50.58  ...       343.96                     1715\n",
              "\n",
              "[5 rows x 6 columns]"
            ]
          },
          "metadata": {
            "tags": []
          },
          "execution_count": 5
        }
      ]
    },
    {
      "cell_type": "code",
      "metadata": {
        "id": "yX-DzTb3QssR"
      },
      "source": [
        "d = preprocessing.minmax_scale(ss) # Applying normalization on the data"
      ],
      "execution_count": 6,
      "outputs": []
    },
    {
      "cell_type": "code",
      "metadata": {
        "id": "8zo4I21vfEbK",
        "colab": {
          "base_uri": "https://localhost:8080/"
        },
        "outputId": "2357db19-363e-4674-d1c2-04536f8c2be5"
      },
      "source": [
        "d"
      ],
      "execution_count": 7,
      "outputs": [
        {
          "output_type": "execute_result",
          "data": {
            "text/plain": [
              "array([[0.07906977, 0.35562731, 0.49103836, 0.25709628, 0.13314154,\n",
              "        0.07240799],\n",
              "       [0.02325581, 0.34417282, 0.3261739 , 0.32112534, 0.22532065,\n",
              "        0.05513592],\n",
              "       [0.06046512, 0.34171279, 0.33491335, 0.24174237, 0.2062833 ,\n",
              "        0.06139043],\n",
              "       ...,\n",
              "       [0.34418605, 0.55004613, 0.50866538, 0.14047192, 0.03456035,\n",
              "        0.25316334],\n",
              "       [0.47906977, 0.76737392, 0.70967264, 0.13393834, 0.02668715,\n",
              "        0.22126534],\n",
              "       [0.48372093, 0.66128536, 0.61161309, 0.35552463, 0.20717142,\n",
              "        0.33403897]])"
            ]
          },
          "metadata": {
            "tags": []
          },
          "execution_count": 7
        }
      ]
    },
    {
      "cell_type": "code",
      "metadata": {
        "id": "NcEbv6HJQ3jh"
      },
      "source": [
        "names = ss.columns\n",
        "df = pd.DataFrame(d, columns=names)"
      ],
      "execution_count": 8,
      "outputs": []
    },
    {
      "cell_type": "code",
      "metadata": {
        "colab": {
          "base_uri": "https://localhost:8080/",
          "height": 419
        },
        "id": "DWfi6FY78mJ0",
        "outputId": "6c95710f-bd66-4bd3-b5fe-8c55b60b5f21"
      },
      "source": [
        "df"
      ],
      "execution_count": 9,
      "outputs": [
        {
          "output_type": "execute_result",
          "data": {
            "text/html": [
              "<div>\n",
              "<style scoped>\n",
              "    .dataframe tbody tr th:only-of-type {\n",
              "        vertical-align: middle;\n",
              "    }\n",
              "\n",
              "    .dataframe tbody tr th {\n",
              "        vertical-align: top;\n",
              "    }\n",
              "\n",
              "    .dataframe thead th {\n",
              "        text-align: right;\n",
              "    }\n",
              "</style>\n",
              "<table border=\"1\" class=\"dataframe\">\n",
              "  <thead>\n",
              "    <tr style=\"text-align: right;\">\n",
              "      <th></th>\n",
              "      <th>TMF</th>\n",
              "      <th>TKM_percent</th>\n",
              "      <th>TUKM_percent</th>\n",
              "      <th>Alcantine</th>\n",
              "      <th>Fatty_Accid</th>\n",
              "      <th>Total_Biogaz_Production</th>\n",
              "    </tr>\n",
              "  </thead>\n",
              "  <tbody>\n",
              "    <tr>\n",
              "      <th>0</th>\n",
              "      <td>0.079070</td>\n",
              "      <td>0.355627</td>\n",
              "      <td>0.491038</td>\n",
              "      <td>0.257096</td>\n",
              "      <td>0.133142</td>\n",
              "      <td>0.072408</td>\n",
              "    </tr>\n",
              "    <tr>\n",
              "      <th>1</th>\n",
              "      <td>0.023256</td>\n",
              "      <td>0.344173</td>\n",
              "      <td>0.326174</td>\n",
              "      <td>0.321125</td>\n",
              "      <td>0.225321</td>\n",
              "      <td>0.055136</td>\n",
              "    </tr>\n",
              "    <tr>\n",
              "      <th>2</th>\n",
              "      <td>0.060465</td>\n",
              "      <td>0.341713</td>\n",
              "      <td>0.334913</td>\n",
              "      <td>0.241742</td>\n",
              "      <td>0.206283</td>\n",
              "      <td>0.061390</td>\n",
              "    </tr>\n",
              "    <tr>\n",
              "      <th>3</th>\n",
              "      <td>0.041860</td>\n",
              "      <td>0.340637</td>\n",
              "      <td>0.394608</td>\n",
              "      <td>0.248603</td>\n",
              "      <td>0.192695</td>\n",
              "      <td>0.055809</td>\n",
              "    </tr>\n",
              "    <tr>\n",
              "      <th>4</th>\n",
              "      <td>0.060465</td>\n",
              "      <td>0.388838</td>\n",
              "      <td>0.344097</td>\n",
              "      <td>0.244356</td>\n",
              "      <td>0.187409</td>\n",
              "      <td>0.053260</td>\n",
              "    </tr>\n",
              "    <tr>\n",
              "      <th>...</th>\n",
              "      <td>...</td>\n",
              "      <td>...</td>\n",
              "      <td>...</td>\n",
              "      <td>...</td>\n",
              "      <td>...</td>\n",
              "      <td>...</td>\n",
              "    </tr>\n",
              "    <tr>\n",
              "      <th>389</th>\n",
              "      <td>0.390698</td>\n",
              "      <td>0.360394</td>\n",
              "      <td>0.333284</td>\n",
              "      <td>0.100725</td>\n",
              "      <td>0.088485</td>\n",
              "      <td>0.265769</td>\n",
              "    </tr>\n",
              "    <tr>\n",
              "      <th>390</th>\n",
              "      <td>0.404651</td>\n",
              "      <td>0.293589</td>\n",
              "      <td>0.271515</td>\n",
              "      <td>0.090546</td>\n",
              "      <td>0.059526</td>\n",
              "      <td>0.238345</td>\n",
              "    </tr>\n",
              "    <tr>\n",
              "      <th>391</th>\n",
              "      <td>0.344186</td>\n",
              "      <td>0.550046</td>\n",
              "      <td>0.508665</td>\n",
              "      <td>0.140472</td>\n",
              "      <td>0.034560</td>\n",
              "      <td>0.253163</td>\n",
              "    </tr>\n",
              "    <tr>\n",
              "      <th>392</th>\n",
              "      <td>0.479070</td>\n",
              "      <td>0.767374</td>\n",
              "      <td>0.709673</td>\n",
              "      <td>0.133938</td>\n",
              "      <td>0.026687</td>\n",
              "      <td>0.221265</td>\n",
              "    </tr>\n",
              "    <tr>\n",
              "      <th>393</th>\n",
              "      <td>0.483721</td>\n",
              "      <td>0.661285</td>\n",
              "      <td>0.611613</td>\n",
              "      <td>0.355525</td>\n",
              "      <td>0.207171</td>\n",
              "      <td>0.334039</td>\n",
              "    </tr>\n",
              "  </tbody>\n",
              "</table>\n",
              "<p>394 rows × 6 columns</p>\n",
              "</div>"
            ],
            "text/plain": [
              "          TMF  TKM_percent  ...  Fatty_Accid  Total_Biogaz_Production\n",
              "0    0.079070     0.355627  ...     0.133142                 0.072408\n",
              "1    0.023256     0.344173  ...     0.225321                 0.055136\n",
              "2    0.060465     0.341713  ...     0.206283                 0.061390\n",
              "3    0.041860     0.340637  ...     0.192695                 0.055809\n",
              "4    0.060465     0.388838  ...     0.187409                 0.053260\n",
              "..        ...          ...  ...          ...                      ...\n",
              "389  0.390698     0.360394  ...     0.088485                 0.265769\n",
              "390  0.404651     0.293589  ...     0.059526                 0.238345\n",
              "391  0.344186     0.550046  ...     0.034560                 0.253163\n",
              "392  0.479070     0.767374  ...     0.026687                 0.221265\n",
              "393  0.483721     0.661285  ...     0.207171                 0.334039\n",
              "\n",
              "[394 rows x 6 columns]"
            ]
          },
          "metadata": {
            "tags": []
          },
          "execution_count": 9
        }
      ]
    },
    {
      "cell_type": "code",
      "metadata": {
        "id": "VzQ7b3g-nK7s"
      },
      "source": [
        "# Identifying the target feature by splitting the dataset\n",
        "samples = df.filter(['TMF', 'TKM_percent', 'TUKM_percent', 'Alcantine', 'Fatty_Accid'])\n",
        "scores = df.filter(['Total_Biogaz_Production'])"
      ],
      "execution_count": 10,
      "outputs": []
    },
    {
      "cell_type": "code",
      "metadata": {
        "colab": {
          "base_uri": "https://localhost:8080/",
          "height": 419
        },
        "id": "u0bklU5bDokf",
        "outputId": "e4c6ed00-f16c-4495-cbee-9337b0c97d30"
      },
      "source": [
        "samples"
      ],
      "execution_count": 11,
      "outputs": [
        {
          "output_type": "execute_result",
          "data": {
            "text/html": [
              "<div>\n",
              "<style scoped>\n",
              "    .dataframe tbody tr th:only-of-type {\n",
              "        vertical-align: middle;\n",
              "    }\n",
              "\n",
              "    .dataframe tbody tr th {\n",
              "        vertical-align: top;\n",
              "    }\n",
              "\n",
              "    .dataframe thead th {\n",
              "        text-align: right;\n",
              "    }\n",
              "</style>\n",
              "<table border=\"1\" class=\"dataframe\">\n",
              "  <thead>\n",
              "    <tr style=\"text-align: right;\">\n",
              "      <th></th>\n",
              "      <th>TMF</th>\n",
              "      <th>TKM_percent</th>\n",
              "      <th>TUKM_percent</th>\n",
              "      <th>Alcantine</th>\n",
              "      <th>Fatty_Accid</th>\n",
              "    </tr>\n",
              "  </thead>\n",
              "  <tbody>\n",
              "    <tr>\n",
              "      <th>0</th>\n",
              "      <td>0.079070</td>\n",
              "      <td>0.355627</td>\n",
              "      <td>0.491038</td>\n",
              "      <td>0.257096</td>\n",
              "      <td>0.133142</td>\n",
              "    </tr>\n",
              "    <tr>\n",
              "      <th>1</th>\n",
              "      <td>0.023256</td>\n",
              "      <td>0.344173</td>\n",
              "      <td>0.326174</td>\n",
              "      <td>0.321125</td>\n",
              "      <td>0.225321</td>\n",
              "    </tr>\n",
              "    <tr>\n",
              "      <th>2</th>\n",
              "      <td>0.060465</td>\n",
              "      <td>0.341713</td>\n",
              "      <td>0.334913</td>\n",
              "      <td>0.241742</td>\n",
              "      <td>0.206283</td>\n",
              "    </tr>\n",
              "    <tr>\n",
              "      <th>3</th>\n",
              "      <td>0.041860</td>\n",
              "      <td>0.340637</td>\n",
              "      <td>0.394608</td>\n",
              "      <td>0.248603</td>\n",
              "      <td>0.192695</td>\n",
              "    </tr>\n",
              "    <tr>\n",
              "      <th>4</th>\n",
              "      <td>0.060465</td>\n",
              "      <td>0.388838</td>\n",
              "      <td>0.344097</td>\n",
              "      <td>0.244356</td>\n",
              "      <td>0.187409</td>\n",
              "    </tr>\n",
              "    <tr>\n",
              "      <th>...</th>\n",
              "      <td>...</td>\n",
              "      <td>...</td>\n",
              "      <td>...</td>\n",
              "      <td>...</td>\n",
              "      <td>...</td>\n",
              "    </tr>\n",
              "    <tr>\n",
              "      <th>389</th>\n",
              "      <td>0.390698</td>\n",
              "      <td>0.360394</td>\n",
              "      <td>0.333284</td>\n",
              "      <td>0.100725</td>\n",
              "      <td>0.088485</td>\n",
              "    </tr>\n",
              "    <tr>\n",
              "      <th>390</th>\n",
              "      <td>0.404651</td>\n",
              "      <td>0.293589</td>\n",
              "      <td>0.271515</td>\n",
              "      <td>0.090546</td>\n",
              "      <td>0.059526</td>\n",
              "    </tr>\n",
              "    <tr>\n",
              "      <th>391</th>\n",
              "      <td>0.344186</td>\n",
              "      <td>0.550046</td>\n",
              "      <td>0.508665</td>\n",
              "      <td>0.140472</td>\n",
              "      <td>0.034560</td>\n",
              "    </tr>\n",
              "    <tr>\n",
              "      <th>392</th>\n",
              "      <td>0.479070</td>\n",
              "      <td>0.767374</td>\n",
              "      <td>0.709673</td>\n",
              "      <td>0.133938</td>\n",
              "      <td>0.026687</td>\n",
              "    </tr>\n",
              "    <tr>\n",
              "      <th>393</th>\n",
              "      <td>0.483721</td>\n",
              "      <td>0.661285</td>\n",
              "      <td>0.611613</td>\n",
              "      <td>0.355525</td>\n",
              "      <td>0.207171</td>\n",
              "    </tr>\n",
              "  </tbody>\n",
              "</table>\n",
              "<p>394 rows × 5 columns</p>\n",
              "</div>"
            ],
            "text/plain": [
              "          TMF  TKM_percent  TUKM_percent  Alcantine  Fatty_Accid\n",
              "0    0.079070     0.355627      0.491038   0.257096     0.133142\n",
              "1    0.023256     0.344173      0.326174   0.321125     0.225321\n",
              "2    0.060465     0.341713      0.334913   0.241742     0.206283\n",
              "3    0.041860     0.340637      0.394608   0.248603     0.192695\n",
              "4    0.060465     0.388838      0.344097   0.244356     0.187409\n",
              "..        ...          ...           ...        ...          ...\n",
              "389  0.390698     0.360394      0.333284   0.100725     0.088485\n",
              "390  0.404651     0.293589      0.271515   0.090546     0.059526\n",
              "391  0.344186     0.550046      0.508665   0.140472     0.034560\n",
              "392  0.479070     0.767374      0.709673   0.133938     0.026687\n",
              "393  0.483721     0.661285      0.611613   0.355525     0.207171\n",
              "\n",
              "[394 rows x 5 columns]"
            ]
          },
          "metadata": {
            "tags": []
          },
          "execution_count": 11
        }
      ]
    },
    {
      "cell_type": "code",
      "metadata": {
        "colab": {
          "base_uri": "https://localhost:8080/",
          "height": 419
        },
        "id": "M5JeWxcXDvud",
        "outputId": "c0782b66-504f-430f-8254-941dcc6ba8d9"
      },
      "source": [
        "scores"
      ],
      "execution_count": 12,
      "outputs": [
        {
          "output_type": "execute_result",
          "data": {
            "text/html": [
              "<div>\n",
              "<style scoped>\n",
              "    .dataframe tbody tr th:only-of-type {\n",
              "        vertical-align: middle;\n",
              "    }\n",
              "\n",
              "    .dataframe tbody tr th {\n",
              "        vertical-align: top;\n",
              "    }\n",
              "\n",
              "    .dataframe thead th {\n",
              "        text-align: right;\n",
              "    }\n",
              "</style>\n",
              "<table border=\"1\" class=\"dataframe\">\n",
              "  <thead>\n",
              "    <tr style=\"text-align: right;\">\n",
              "      <th></th>\n",
              "      <th>Total_Biogaz_Production</th>\n",
              "    </tr>\n",
              "  </thead>\n",
              "  <tbody>\n",
              "    <tr>\n",
              "      <th>0</th>\n",
              "      <td>0.072408</td>\n",
              "    </tr>\n",
              "    <tr>\n",
              "      <th>1</th>\n",
              "      <td>0.055136</td>\n",
              "    </tr>\n",
              "    <tr>\n",
              "      <th>2</th>\n",
              "      <td>0.061390</td>\n",
              "    </tr>\n",
              "    <tr>\n",
              "      <th>3</th>\n",
              "      <td>0.055809</td>\n",
              "    </tr>\n",
              "    <tr>\n",
              "      <th>4</th>\n",
              "      <td>0.053260</td>\n",
              "    </tr>\n",
              "    <tr>\n",
              "      <th>...</th>\n",
              "      <td>...</td>\n",
              "    </tr>\n",
              "    <tr>\n",
              "      <th>389</th>\n",
              "      <td>0.265769</td>\n",
              "    </tr>\n",
              "    <tr>\n",
              "      <th>390</th>\n",
              "      <td>0.238345</td>\n",
              "    </tr>\n",
              "    <tr>\n",
              "      <th>391</th>\n",
              "      <td>0.253163</td>\n",
              "    </tr>\n",
              "    <tr>\n",
              "      <th>392</th>\n",
              "      <td>0.221265</td>\n",
              "    </tr>\n",
              "    <tr>\n",
              "      <th>393</th>\n",
              "      <td>0.334039</td>\n",
              "    </tr>\n",
              "  </tbody>\n",
              "</table>\n",
              "<p>394 rows × 1 columns</p>\n",
              "</div>"
            ],
            "text/plain": [
              "     Total_Biogaz_Production\n",
              "0                   0.072408\n",
              "1                   0.055136\n",
              "2                   0.061390\n",
              "3                   0.055809\n",
              "4                   0.053260\n",
              "..                       ...\n",
              "389                 0.265769\n",
              "390                 0.238345\n",
              "391                 0.253163\n",
              "392                 0.221265\n",
              "393                 0.334039\n",
              "\n",
              "[394 rows x 1 columns]"
            ]
          },
          "metadata": {
            "tags": []
          },
          "execution_count": 12
        }
      ]
    },
    {
      "cell_type": "markdown",
      "metadata": {
        "id": "o4ECvVJOE5jL"
      },
      "source": [
        "# PBIAS"
      ]
    },
    {
      "cell_type": "code",
      "metadata": {
        "id": "1WwxpOfAnQ9f",
        "colab": {
          "base_uri": "https://localhost:8080/"
        },
        "outputId": "462daa43-96bc-4642-b699-6d7ee6f4cc26"
      },
      "source": [
        "!pip install spotpy"
      ],
      "execution_count": 13,
      "outputs": [
        {
          "output_type": "stream",
          "text": [
            "Collecting spotpy\n",
            "\u001b[?25l  Downloading https://files.pythonhosted.org/packages/1c/07/fee2a157aaf45ecfc91701b754d7e7eabe89cea7526ff8841611b11c22f9/spotpy-1.5.14-py3-none-any.whl (186kB)\n",
            "\r\u001b[K     |█▊                              | 10kB 11.3MB/s eta 0:00:01\r\u001b[K     |███▌                            | 20kB 15.8MB/s eta 0:00:01\r\u001b[K     |█████▎                          | 30kB 19.8MB/s eta 0:00:01\r\u001b[K     |███████                         | 40kB 18.0MB/s eta 0:00:01\r\u001b[K     |████████▊                       | 51kB 6.8MB/s eta 0:00:01\r\u001b[K     |██████████▌                     | 61kB 7.4MB/s eta 0:00:01\r\u001b[K     |████████████▎                   | 71kB 8.0MB/s eta 0:00:01\r\u001b[K     |██████████████                  | 81kB 8.5MB/s eta 0:00:01\r\u001b[K     |███████████████▊                | 92kB 9.3MB/s eta 0:00:01\r\u001b[K     |█████████████████▌              | 102kB 8.1MB/s eta 0:00:01\r\u001b[K     |███████████████████▎            | 112kB 8.1MB/s eta 0:00:01\r\u001b[K     |█████████████████████           | 122kB 8.1MB/s eta 0:00:01\r\u001b[K     |██████████████████████▉         | 133kB 8.1MB/s eta 0:00:01\r\u001b[K     |████████████████████████▌       | 143kB 8.1MB/s eta 0:00:01\r\u001b[K     |██████████████████████████▎     | 153kB 8.1MB/s eta 0:00:01\r\u001b[K     |████████████████████████████    | 163kB 8.1MB/s eta 0:00:01\r\u001b[K     |█████████████████████████████▉  | 174kB 8.1MB/s eta 0:00:01\r\u001b[K     |███████████████████████████████▌| 184kB 8.1MB/s eta 0:00:01\r\u001b[K     |████████████████████████████████| 194kB 8.1MB/s \n",
            "\u001b[?25hRequirement already satisfied: scipy in /usr/local/lib/python3.7/dist-packages (from spotpy) (1.4.1)\n",
            "Requirement already satisfied: numpy in /usr/local/lib/python3.7/dist-packages (from spotpy) (1.19.5)\n",
            "Installing collected packages: spotpy\n",
            "Successfully installed spotpy-1.5.14\n"
          ],
          "name": "stdout"
        }
      ]
    },
    {
      "cell_type": "code",
      "metadata": {
        "id": "qBqva7H74NtM"
      },
      "source": [
        "import spotpy\n",
        "import numpy as np\n",
        "def pbias(model, x_test, y_test):\n",
        "    x1 = x_test\n",
        "    x2=y_test\n",
        "    prediction = model.predict(x1)\n",
        "    if len(y_test) == len(prediction):\n",
        "        sim = np.array(prediction)\n",
        "        obs = np.array(x2)\n",
        "        print('Pbias is', 100 * (float(np.nansum(sim - obs)) / float(np.nansum(obs))))\n",
        "\n",
        "    else:\n",
        "        logging.warning(\"evaluation and simulation lists does not have the same length.\")\n",
        "        return np.nan"
      ],
      "execution_count": 14,
      "outputs": []
    },
    {
      "cell_type": "code",
      "metadata": {
        "id": "aAPgI9s14V_2"
      },
      "source": [
        "# Identifying the target feature by splitting the dataset\n",
        "samples = df.filter(['TMF', 'TKM_percent', 'TUKM_percent', 'Alcantine', 'Fatty_Accid'])\n",
        "scores = df.filter(['Total_Biogaz_Production'])\n",
        "\n",
        "#Setting a parameter for SVM model\n",
        "C = 0.1\n",
        "\n",
        "# Defining the number of features to investigate\n",
        "nFeatures = len(df.columns) - 1\n",
        "\n",
        "rfeIndex = nFeatures"
      ],
      "execution_count": 15,
      "outputs": []
    },
    {
      "cell_type": "code",
      "metadata": {
        "id": "W5JYR4hTrBZh",
        "colab": {
          "base_uri": "https://localhost:8080/"
        },
        "outputId": "7c90dfab-e79f-4e52-bc05-5aa6665cd997"
      },
      "source": [
        "#Recursively eliminate features based on the lowest weight\n",
        "while True:\n",
        "\t#Split into training and testing\n",
        "\tx_train, x_test, y_train, y_test = train_test_split(samples, scores, test_size = 0.50, train_size=0.5)\n",
        "\t\n",
        "\t#Create SVM model using a linear kernel\n",
        "\tmodel = svm.SVR(kernel='linear', C=C).fit(x_train, y_train)\n",
        "\tcoef = model.coef_\n",
        "\n",
        "\t#Print co-efficients of features\n",
        "\tfor i in range(0, nFeatures):\n",
        "\t\tprint(samples.columns[i-1],\":\", coef[0][i-1])\n",
        "\t\n",
        "\t#Find the minimum weight among features and eliminate the feature with the smallest weight\n",
        "\tmin = coef[0][0]\n",
        "\tindex = 0\n",
        "\tfor i in range(0, rfeIndex):\n",
        "\t\tif min > coef[0][i-1]:\n",
        "\t\t\tindex = index + 1\n",
        "\t\t\tmin = coef[0][i-1]\n",
        "\tif len(samples.columns) == 1:\n",
        "\t\tprint(\"After recursive elimination we have the\", samples.columns[index], \"feature with a score of:\", min)\n",
        "\t\tpbias(model, x_test, y_test)\n",
        "\t\tbreak\n",
        "\telse:\n",
        "\t\tprint (\"Lowest feature weight is for\", samples.columns[index], \"with a value of:\", min)\n",
        "\t\tprint (\"Dropping feature\", samples.columns[index])  \n",
        "\n",
        "\t\t#Drop the feature in the 'samples' dataframe based on the lowest feature index\n",
        "\t\tsamples.drop(samples.columns[index], axis = 1, inplace = True)\n",
        "\t\tpbias(model, x_test, y_test)\n",
        "\t\tprint (\"\\n\")\n",
        "\t\trfeIndex = rfeIndex - 1\n",
        "\t\tnFeatures = nFeatures - 1"
      ],
      "execution_count": 16,
      "outputs": [
        {
          "output_type": "stream",
          "text": [
            "Fatty_Accid : 0.07760084215455251\n",
            "TMF : 0.40729979072278655\n",
            "TKM_percent : 0.011354644598672609\n",
            "TUKM_percent : 0.06175320475251563\n",
            "Alcantine : -0.0925062754866956\n",
            "Lowest feature weight is for Alcantine with a value of: -0.0925062754866956\n",
            "Dropping feature Alcantine\n",
            "Pbias is -1198.7747040261872\n",
            "\n",
            "\n",
            "Fatty_Accid : 0.07691020015884906\n",
            "TMF : 0.4821209979467472\n",
            "TKM_percent : 0.04138533239368698\n",
            "TUKM_percent : 0.10563138955585129\n",
            "Lowest feature weight is for TUKM_percent with a value of: 0.04138533239368698\n",
            "Dropping feature TUKM_percent\n",
            "Pbias is 894.0435084846506\n",
            "\n",
            "\n",
            "Fatty_Accid : 0.06485428855210126\n",
            "TMF : 0.4530448209636958\n",
            "TKM_percent : 0.07431161990866277\n",
            "Lowest feature weight is for TKM_percent with a value of: 0.06485428855210126\n",
            "Dropping feature TKM_percent\n",
            "Pbias is -1908.2242438035835\n",
            "\n",
            "\n",
            "Fatty_Accid : 0.08658515740525974\n",
            "TMF : 0.4540989719976616\n",
            "Lowest feature weight is for Fatty_Accid with a value of: 0.08658515740525974\n",
            "Dropping feature Fatty_Accid\n",
            "Pbias is -1773.3035386055924\n",
            "\n",
            "\n",
            "TMF : 0.4399893388592593\n",
            "After recursive elimination we have the TMF feature with a score of: 0.4399893388592593\n",
            "Pbias is -1232.227502987893\n"
          ],
          "name": "stdout"
        },
        {
          "output_type": "stream",
          "text": [
            "/usr/local/lib/python3.7/dist-packages/sklearn/utils/validation.py:760: DataConversionWarning: A column-vector y was passed when a 1d array was expected. Please change the shape of y to (n_samples, ), for example using ravel().\n",
            "  y = column_or_1d(y, warn=True)\n",
            "/usr/local/lib/python3.7/dist-packages/sklearn/utils/validation.py:760: DataConversionWarning: A column-vector y was passed when a 1d array was expected. Please change the shape of y to (n_samples, ), for example using ravel().\n",
            "  y = column_or_1d(y, warn=True)\n",
            "/usr/local/lib/python3.7/dist-packages/sklearn/utils/validation.py:760: DataConversionWarning: A column-vector y was passed when a 1d array was expected. Please change the shape of y to (n_samples, ), for example using ravel().\n",
            "  y = column_or_1d(y, warn=True)\n",
            "/usr/local/lib/python3.7/dist-packages/sklearn/utils/validation.py:760: DataConversionWarning: A column-vector y was passed when a 1d array was expected. Please change the shape of y to (n_samples, ), for example using ravel().\n",
            "  y = column_or_1d(y, warn=True)\n",
            "/usr/local/lib/python3.7/dist-packages/sklearn/utils/validation.py:760: DataConversionWarning: A column-vector y was passed when a 1d array was expected. Please change the shape of y to (n_samples, ), for example using ravel().\n",
            "  y = column_or_1d(y, warn=True)\n"
          ],
          "name": "stderr"
        }
      ]
    },
    {
      "cell_type": "markdown",
      "metadata": {
        "id": "Tmcc3uSL28ug"
      },
      "source": [
        "# Average Bias Deviation"
      ]
    },
    {
      "cell_type": "code",
      "metadata": {
        "id": "dLuWbBsCJ5Jv"
      },
      "source": [
        "# Mean Bias Deviation\n",
        "def mbd(model, x_test, y_test):\n",
        "    x1 = x_test\n",
        "    x2=y_test\n",
        "    prediction = model.predict(x1)\n",
        "    predict = np.array(prediction)\n",
        "    actual = np.array(x2)\n",
        "\n",
        "    difference = predict - actual\n",
        "    numerator = np.sum(difference) / len(predict)\n",
        "    denumerator = np.sum(actual) / len(predict)\n",
        "    score = float(numerator) / denumerator * 100\n",
        "\n",
        "    print('Mean Bias Deviation:', score)"
      ],
      "execution_count": 17,
      "outputs": []
    },
    {
      "cell_type": "code",
      "metadata": {
        "id": "z7N6jkukKlrq"
      },
      "source": [
        "# Identifying the target feature by splitting the dataset\n",
        "samples = df.filter(['TMF', 'TKM_percent', 'TUKM_percent', 'Alcantine', 'Fatty_Accid'])\n",
        "scores = df.filter(['Total_Biogaz_Production'])\n",
        "\n",
        "#Setting a parameter for SVM model\n",
        "C = 0.1\n",
        "\n",
        "# Defining the number of features to investigate\n",
        "nFeatures = len(df.columns) - 1\n",
        "\n",
        "rfeIndex = nFeatures"
      ],
      "execution_count": 18,
      "outputs": []
    },
    {
      "cell_type": "code",
      "metadata": {
        "id": "yBDnAxEVKmcZ",
        "colab": {
          "base_uri": "https://localhost:8080/"
        },
        "outputId": "5d0587ec-2563-4c46-9eb8-3170e8004ab2"
      },
      "source": [
        "#Recursively eliminate features based on the lowest weight\n",
        "while True:\n",
        "\t#Split into training and testing\n",
        "\tx_train, x_test, y_train, y_test = train_test_split(samples, scores, test_size = 0.50, train_size=0.5)\n",
        "\t\n",
        "\t#Create SVM model using a linear kernel\n",
        "\tmodel = svm.SVR(kernel='linear', C=C).fit(x_train, y_train)\n",
        "\tcoef = model.coef_\n",
        "\n",
        "\t#Print co-efficients of features\n",
        "\tfor i in range(0, nFeatures):\n",
        "\t\tprint(samples.columns[i-1],\":\", coef[0][i-1])\n",
        "\t\n",
        "\t#Find the minimum weight among features and eliminate the feature with the smallest weight\n",
        "\tmin = coef[0][0]\n",
        "\tindex = 0\n",
        "\tfor i in range(0, rfeIndex):\n",
        "\t\tif min > coef[0][i-1]:\n",
        "\t\t\tindex = index + 1\n",
        "\t\t\tmin = coef[0][i-1]\n",
        "\tif len(samples.columns) == 1:\n",
        "\t\tprint(\"After recursive elimination we have the\", samples.columns[index], \"feature with a score of:\", min)\n",
        "\t\tmbd(model, x_test, y_test)\n",
        "\t\tbreak\n",
        "\telse:\n",
        "\t\tprint (\"Lowest feature weight is for\", samples.columns[index], \"with a value of:\", min)\n",
        "\t\tprint (\"Dropping feature\", samples.columns[index])  \n",
        "\n",
        "\t\t#Drop the feature in the 'samples' dataframe based on the lowest feature index\n",
        "\t\tsamples.drop(samples.columns[index], axis = 1, inplace = True)\n",
        "\t\tmbd(model, x_test, y_test)\n",
        "\t\tprint (\"\\n\")\n",
        "\t\trfeIndex = rfeIndex - 1\n",
        "\t\tnFeatures = nFeatures - 1"
      ],
      "execution_count": 19,
      "outputs": [
        {
          "output_type": "stream",
          "text": [
            "Fatty_Accid : 0.06453099424067361\n",
            "TMF : 0.4750488291224053\n",
            "TKM_percent : 0.0841520687984319\n",
            "TUKM_percent : 0.08691432600319268\n",
            "Alcantine : -0.016639177246542496\n",
            "Lowest feature weight is for TUKM_percent with a value of: -0.016639177246542496\n",
            "Dropping feature TUKM_percent\n",
            "Mean Bias Deviation: 29.415114512961427\n",
            "\n",
            "\n",
            "Fatty_Accid : 0.09680450063794449\n",
            "TMF : 0.5030559382778742\n",
            "TKM_percent : 0.0938361687746333\n",
            "Alcantine : -0.008294191133553994\n",
            "Lowest feature weight is for Fatty_Accid with a value of: -0.008294191133553994\n",
            "Dropping feature Fatty_Accid\n",
            "Mean Bias Deviation: -666.5388222745606\n",
            "\n",
            "\n",
            "Alcantine : -0.02001470868789544\n",
            "TMF : 0.4476848456455211\n",
            "TKM_percent : 0.14898877882198586\n",
            "Lowest feature weight is for TKM_percent with a value of: -0.02001470868789544\n",
            "Dropping feature TKM_percent\n",
            "Mean Bias Deviation: -1326.4933572067941\n",
            "\n",
            "\n",
            "Alcantine : 0.028610108933291484\n",
            "TMF : 0.48985535133114\n",
            "Lowest feature weight is for Alcantine with a value of: 0.028610108933291484\n",
            "Dropping feature Alcantine\n",
            "Mean Bias Deviation: 36.1503445015963\n",
            "\n",
            "\n",
            "TMF : 0.49441418172818596\n",
            "After recursive elimination we have the TMF feature with a score of: 0.49441418172818596\n",
            "Mean Bias Deviation: -254.02238270292932\n"
          ],
          "name": "stdout"
        },
        {
          "output_type": "stream",
          "text": [
            "/usr/local/lib/python3.7/dist-packages/sklearn/utils/validation.py:760: DataConversionWarning: A column-vector y was passed when a 1d array was expected. Please change the shape of y to (n_samples, ), for example using ravel().\n",
            "  y = column_or_1d(y, warn=True)\n",
            "/usr/local/lib/python3.7/dist-packages/sklearn/utils/validation.py:760: DataConversionWarning: A column-vector y was passed when a 1d array was expected. Please change the shape of y to (n_samples, ), for example using ravel().\n",
            "  y = column_or_1d(y, warn=True)\n",
            "/usr/local/lib/python3.7/dist-packages/sklearn/utils/validation.py:760: DataConversionWarning: A column-vector y was passed when a 1d array was expected. Please change the shape of y to (n_samples, ), for example using ravel().\n",
            "  y = column_or_1d(y, warn=True)\n",
            "/usr/local/lib/python3.7/dist-packages/sklearn/utils/validation.py:760: DataConversionWarning: A column-vector y was passed when a 1d array was expected. Please change the shape of y to (n_samples, ), for example using ravel().\n",
            "  y = column_or_1d(y, warn=True)\n",
            "/usr/local/lib/python3.7/dist-packages/sklearn/utils/validation.py:760: DataConversionWarning: A column-vector y was passed when a 1d array was expected. Please change the shape of y to (n_samples, ), for example using ravel().\n",
            "  y = column_or_1d(y, warn=True)\n"
          ],
          "name": "stderr"
        }
      ]
    },
    {
      "cell_type": "markdown",
      "metadata": {
        "id": "XLxBZrqNMHoD"
      },
      "source": [
        "# Index of Agreement"
      ]
    },
    {
      "cell_type": "code",
      "metadata": {
        "id": "gSocDA1_K9A6"
      },
      "source": [
        "def index_agreement(model, x_test, y_test):\n",
        "    prediction = model.predict(x_test)\n",
        "    s = np.ravel(prediction)\n",
        "    o = np.ravel(y_test)\n",
        "    ia = 1 -(np.sum((o-s)**2))/(np.sum(\n",
        "    \t\t\t(np.abs(s-np.mean(o))+np.abs(o-np.mean(o)))**2))\n",
        "    print('Index of Agreement:', ia)"
      ],
      "execution_count": 20,
      "outputs": []
    },
    {
      "cell_type": "code",
      "metadata": {
        "id": "f_yUbENXMPDP"
      },
      "source": [
        "# Identifying the target featue by splitting the dataset\n",
        "samples = df.filter(['TMF', 'TKM_percent', 'TUKM_percent', 'Alcantine', 'Fatty_Accid'])\n",
        "scores = df.filter(['Total_Biogaz_Production'])\n",
        "\n",
        "#Setting a parameter for SVM model\n",
        "C = 0.1\n",
        "\n",
        "# Defining the number of features to investigate\n",
        "nFeatures = len(df.columns) - 1\n",
        "\n",
        "rfeIndex = nFeatures"
      ],
      "execution_count": 21,
      "outputs": []
    },
    {
      "cell_type": "code",
      "metadata": {
        "id": "DuikfYi_MPlZ",
        "colab": {
          "base_uri": "https://localhost:8080/"
        },
        "outputId": "27e5a9a7-9981-45ae-de49-d2aa1bc9e604"
      },
      "source": [
        "#Recursively eliminate features based on the lowest weight\n",
        "while True:\n",
        "\t#Split into training and testing\n",
        "\tx_train, x_test, y_train, y_test = train_test_split(samples, scores, test_size = 0.50, train_size=0.5)\n",
        "\t\n",
        "\t#Create SVM model using a linear kernel\n",
        "\tmodel = svm.SVR(kernel='linear', C=C).fit(x_train, y_train)\n",
        "\tcoef = model.coef_\n",
        "\n",
        "\t#Print co-efficients of features\n",
        "\tfor i in range(0, nFeatures):\n",
        "\t\tprint(samples.columns[i-1],\":\", coef[0][i-1])\n",
        "\t\n",
        "\t#Find the minimum weight among features and eliminate the feature with the smallest weight\n",
        "\tmin = coef[0][0]\n",
        "\tindex = 0\n",
        "\tfor i in range(0, rfeIndex):\n",
        "\t\tif min > coef[0][i-1]:\n",
        "\t\t\tindex = index + 1\n",
        "\t\t\tmin = coef[0][i-1]\n",
        "\tif len(samples.columns) == 1:\n",
        "\t\tprint(\"After recursive elimination we have the\", samples.columns[index], \"feature with a score of:\", min)\n",
        "\t\tindex_agreement(model, x_test, y_test)\n",
        "\t\tbreak\n",
        "\telse:\n",
        "\t\tprint (\"Lowest feature weight is for\", samples.columns[index], \"with a value of:\", min)\n",
        "\t\tprint (\"Dropping feature\", samples.columns[index])  \n",
        "\n",
        "\t\t#Drop the feature in the 'samples' dataframe based on the lowest feature index\n",
        "\t\tsamples.drop(samples.columns[index], axis = 1, inplace = True)\n",
        "\t\tindex_agreement(model, x_test, y_test)\n",
        "\t\tprint (\"\\n\")\n",
        "\t\trfeIndex = rfeIndex - 1\n",
        "\t\tnFeatures = nFeatures - 1"
      ],
      "execution_count": 22,
      "outputs": [
        {
          "output_type": "stream",
          "text": [
            "Fatty_Accid : 0.08328777464876312\n",
            "TMF : 0.4734699508922544\n",
            "TKM_percent : 0.021091798257304548\n",
            "TUKM_percent : 0.03769798569093395\n",
            "Alcantine : -0.004584005577879309\n",
            "Lowest feature weight is for Alcantine with a value of: -0.004584005577879309\n",
            "Dropping feature Alcantine\n",
            "Index of Agreement: 0.7234718601893062\n",
            "\n",
            "\n",
            "Fatty_Accid : 0.03456649223286211\n",
            "TMF : 0.46986307910503217\n",
            "TKM_percent : 0.056838991429921396\n",
            "TUKM_percent : 0.07632986158202311\n",
            "Lowest feature weight is for TKM_percent with a value of: 0.03456649223286211\n",
            "Dropping feature TKM_percent\n",
            "Index of Agreement: 0.7571375238414756\n",
            "\n",
            "\n",
            "Fatty_Accid : 0.04166117159647305\n",
            "TMF : 0.4389662568829413\n",
            "TUKM_percent : 0.1290765098032494\n",
            "Lowest feature weight is for TUKM_percent with a value of: 0.04166117159647305\n",
            "Dropping feature TUKM_percent\n",
            "Index of Agreement: 0.7235805943075571\n",
            "\n",
            "\n",
            "Fatty_Accid : 0.11595697353216539\n",
            "TMF : 0.4418232211896951\n",
            "Lowest feature weight is for Fatty_Accid with a value of: 0.11595697353216539\n",
            "Dropping feature Fatty_Accid\n",
            "Index of Agreement: 0.7054640889417936\n",
            "\n",
            "\n",
            "TMF : 0.43546870146483596\n",
            "After recursive elimination we have the TMF feature with a score of: 0.43546870146483596\n",
            "Index of Agreement: 0.6919665938462727\n"
          ],
          "name": "stdout"
        },
        {
          "output_type": "stream",
          "text": [
            "/usr/local/lib/python3.7/dist-packages/sklearn/utils/validation.py:760: DataConversionWarning: A column-vector y was passed when a 1d array was expected. Please change the shape of y to (n_samples, ), for example using ravel().\n",
            "  y = column_or_1d(y, warn=True)\n",
            "/usr/local/lib/python3.7/dist-packages/sklearn/utils/validation.py:760: DataConversionWarning: A column-vector y was passed when a 1d array was expected. Please change the shape of y to (n_samples, ), for example using ravel().\n",
            "  y = column_or_1d(y, warn=True)\n",
            "/usr/local/lib/python3.7/dist-packages/sklearn/utils/validation.py:760: DataConversionWarning: A column-vector y was passed when a 1d array was expected. Please change the shape of y to (n_samples, ), for example using ravel().\n",
            "  y = column_or_1d(y, warn=True)\n",
            "/usr/local/lib/python3.7/dist-packages/sklearn/utils/validation.py:760: DataConversionWarning: A column-vector y was passed when a 1d array was expected. Please change the shape of y to (n_samples, ), for example using ravel().\n",
            "  y = column_or_1d(y, warn=True)\n",
            "/usr/local/lib/python3.7/dist-packages/sklearn/utils/validation.py:760: DataConversionWarning: A column-vector y was passed when a 1d array was expected. Please change the shape of y to (n_samples, ), for example using ravel().\n",
            "  y = column_or_1d(y, warn=True)\n"
          ],
          "name": "stderr"
        }
      ]
    }
  ]
}